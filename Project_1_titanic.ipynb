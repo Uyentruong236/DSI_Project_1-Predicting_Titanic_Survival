{
 "cells": [
  {
   "cell_type": "markdown",
   "metadata": {},
   "source": [
    "# Project 1: [Titanic](https://www.kaggle.com/c/titanic/data)\n",
    "---"
   ]
  },
  {
   "cell_type": "markdown",
   "metadata": {},
   "source": [
    "# 1. Using the `with open()` method in the `csv` library, load the titanic dataset into a list of lists.\n",
    "\n",
    "* The `type()` of your dataset should be `list`\n",
    "* The `type()` of each element in your dataset should also be `list`\n",
    "* The `len()` of your dataset should be 892 (892 rows, including the header)\n",
    "* The `len()` of each row element in your dataset should be have a `len()` of 12\n",
    "* Print out the first 3 rows including the header to check your data."
   ]
  },
  {
   "cell_type": "code",
   "execution_count": 1,
   "metadata": {
    "collapsed": true
   },
   "outputs": [],
   "source": [
    "import csv\n",
    "from IPython.display import display\n",
    "import numpy as np\n",
    "import pandas as pd"
   ]
  },
  {
   "cell_type": "code",
   "execution_count": 2,
   "metadata": {
    "collapsed": true
   },
   "outputs": [],
   "source": [
    "from pprint import pprint"
   ]
  },
  {
   "cell_type": "code",
   "execution_count": 5,
   "metadata": {},
   "outputs": [
    {
     "name": "stdout",
     "output_type": "stream",
     "text": [
      "The length of dataset is: 892\n",
      "The length of each row is: 12\n",
      "The data type of the dataset is: <class 'list'>\n",
      "The data type of each row/element in the dataset is: <class 'list'>\n",
      "The first three entries in this dataset are: [['PassengerId', 'Survived', 'Pclass', 'Name', 'Sex', 'Age', 'SibSp', 'Parch', 'Ticket', 'Fare', 'Cabin', 'Embarked'], ['1', '0', '3', 'Braund, Mr. Owen Harris', 'male', '22', '1', '0', 'A/5 21171', '7.25', '', 'S'], ['2', '1', '1', 'Cumings, Mrs. John Bradley (Florence Briggs Thayer)', 'female', '38', '1', '0', 'PC 17599', '71.2833', 'C85', 'C']]\n"
     ]
    }
   ],
   "source": [
    "with open ('titanic.csv') as file:\n",
    "    reader = csv.reader(file, delimiter=',')\n",
    "    titanic_list = list(reader)\n",
    "    dataset_length = len(titanic_list)\n",
    "    row_lenth = len(titanic_list[0])\n",
    "    print('The length of dataset is: ' + str(dataset_length))\n",
    "    print('The length of each row is: ' + str(row_lenth))\n",
    "    print('The data type of the dataset is: ' + str(type(titanic_list)))\n",
    "    print('The data type of each row/element in the dataset is: ' + str(type(titanic_list[1])))\n",
    "    print(\"The first three entries in this dataset are: \" + str(titanic_list[0:3]))\n",
    "#     pprint(titanic_list[0:3])\n"
   ]
  },
  {
   "cell_type": "markdown",
   "metadata": {},
   "source": [
    "# 2. Separate the first header row from the rest of your dataset. \n",
    "\n",
    "* The header should be a list of the column names\n",
    "* The data should be the rest of your data\n",
    "* Display the header and the first row of the dataset zipped together using `zip`\n",
    "* Your result should look like...\n",
    "\n",
    "\n",
    "```\n",
    "[('PassengerId', '1'),\n",
    " ('Survived', '0'),\n",
    " ('Pclass', '3'),\n",
    " ...\n",
    " ('Embarked', 'S')]\n",
    " ```"
   ]
  },
  {
   "cell_type": "code",
   "execution_count": 9,
   "metadata": {},
   "outputs": [
    {
     "name": "stdout",
     "output_type": "stream",
     "text": [
      "[('PassengerId', '1'),\n",
      " ('Survived', '0'),\n",
      " ('Pclass', '3'),\n",
      " ('Name', 'Braund, Mr. Owen Harris'),\n",
      " ('Sex', 'male'),\n",
      " ('Age', '22'),\n",
      " ('SibSp', '1'),\n",
      " ('Parch', '0'),\n",
      " ('Ticket', 'A/5 21171'),\n",
      " ('Fare', '7.25'),\n",
      " ('Cabin', ''),\n",
      " ('Embarked', 'S')]\n"
     ]
    }
   ],
   "source": [
    "header = titanic_list[0]\n",
    "data = titanic_list[1:]\n",
    "\n",
    "new_titanic_list = []\n",
    "\n",
    "for row in data: \n",
    "    new_titanic_list.append(list(zip(header, row)))\n",
    "    \n",
    "pprint(new_titanic_list[0])"
   ]
  },
  {
   "cell_type": "markdown",
   "metadata": {},
   "source": [
    "# 3. Using a `for` loop, load your data into a `dict` called `data_dict`.\n",
    "\n",
    "* The keys of your `data_dict` should be `PassengerId`\n",
    "* The values of your `data_dict` should be dictionaries...\n",
    "  * Each of these dictionaries should reperesent a column value within a row\n",
    "  * The keys should be the names of the columns\n",
    "  * The values should be the values of that column\n",
    "  \n",
    "The beginning of your `data_dict` should look like: \n",
    "\n",
    "    {'1': {'Age': '22',\n",
    "      'Cabin': '',\n",
    "      'Embarked': 'S',\n",
    "      'Fare': '7.25',\n",
    "      'Name': 'Braund, Mr. Owen Harris',\n",
    "      'Parch': '0',\n",
    "      'Pclass': '3',\n",
    "      'Sex': 'male',\n",
    "      'SibSp': '1',\n",
    "      'Survived': '0',\n",
    "      'Ticket': 'A/5 21171'},\n",
    "     '10': {'Age': '14',\n",
    "      'Cabin': '',\n",
    "      'Embarked': 'C',\n",
    "      'Fare': '30.0708',\n",
    "      'Name': 'Nasser, Mrs. Nicholas (Adele Achem)',\n",
    "      'Parch': '0',\n",
    "      'Pclass': '2',\n",
    "      'Sex': 'female',\n",
    "      'SibSp': '1',\n",
    "      'Survived': '1',\n",
    "      'Ticket': '237736'},\n",
    "      ...\n",
    "      }"
   ]
  },
  {
   "cell_type": "code",
   "execution_count": 19,
   "metadata": {
    "collapsed": true
   },
   "outputs": [],
   "source": [
    "data_dict = {}\n",
    "for row in new_titanic_list:\n",
    "    zipped \n",
    "    passenger_dict = {k:v for k,v in row}\n",
    "    data_dict[passenger_dict['PassengerId']] = passenger_dict\n",
    "    "
   ]
  },
  {
   "cell_type": "markdown",
   "metadata": {},
   "source": [
    "# 4. Repeat step 3 using a dictionary comprehension.\n",
    "\n",
    "* Using `==`, check if your `data_dict` from your `for` loop is the same as the one from your dictionary comprehension."
   ]
  },
  {
   "cell_type": "code",
   "execution_count": 20,
   "metadata": {
    "collapsed": true
   },
   "outputs": [],
   "source": [
    "data_dict_comp = {new_titanic_list[index][0][1]: {k:v for k,v in row} for index, row in enumerate(new_titanic_list)}\n"
   ]
  },
  {
   "cell_type": "code",
   "execution_count": 21,
   "metadata": {},
   "outputs": [
    {
     "data": {
      "text/plain": [
       "True"
      ]
     },
     "execution_count": 21,
     "metadata": {},
     "output_type": "execute_result"
    }
   ],
   "source": [
    "data_dict == data_dict_comp"
   ]
  },
  {
   "cell_type": "markdown",
   "metadata": {},
   "source": [
    "# 5. Transform your `data_dict` to be oriented by column and call it `data_dict_columns`\n",
    "\n",
    "* Currently, our `data_dict` is oriented by row, indexed by `\"PassengerId\"`. \n",
    "* Transform your data so that the title of each row is a key, the values are of type `list` and represent column vectors.\n",
    "\n",
    "If you display `data_dict_columns`, the beginning should look like...\n",
    "\n",
    "    {'Age': ['25',\n",
    "      '36',\n",
    "      '24',\n",
    "      '40',\n",
    "      '45',\n",
    "      '2',\n",
    "      '24',\n",
    "      '28',\n",
    "      '33',\n",
    "      '26',\n",
    "      '39',\n",
    "      ..."
   ]
  },
  {
   "cell_type": "code",
   "execution_count": 22,
   "metadata": {
    "collapsed": true,
    "scrolled": true
   },
   "outputs": [],
   "source": [
    "#get list of dictionaries of all passenger info from data_dict_\n",
    "columns = list(data_dict_comp.values())\n",
    "\n",
    "data_dict_columns = {}\n",
    "\n",
    "#initialize empty list for the values\n",
    "for key in columns[0]:\n",
    "        data_dict_columns[key] = []\n",
    "        \n",
    "#loop through keys of all passenger dictionaries to get values and append values into list\n",
    "for key_1 in data_dict_columns.keys():\n",
    "    for passenger in columns:\n",
    "        value = passenger[key_1]\n",
    "        data_dict_columns[key_1].append(value)\n",
    "   \n"
   ]
  },
  {
   "cell_type": "markdown",
   "metadata": {},
   "source": [
    "# 6. Data Types\n",
    "\n",
    "What is the current `type` of each column? What do you think the data type of each column *should* be? The data types in Python are...\n",
    "\n",
    "* `int`\n",
    "* `float`\n",
    "* `str`\n",
    "* `bool`\n",
    "* `tuple`\n",
    "* `list`\n",
    "* `dict`\n",
    "* `set`\n",
    "\n",
    "In a markdown cell, describe what each column represents and what the `type` of each value should be. **Extra:** If you want to be fancy, use a [markdown table](https://github.com/adam-p/markdown-here/wiki/Markdown-Cheatsheet#tables) to display your results."
   ]
  },
  {
   "cell_type": "markdown",
   "metadata": {},
   "source": [
    "#### Your answer here (double click here to edit this markdown cell, and press shift-enter exit edit mode!):\n",
    "\n",
    "All the values are currently strings because each value is inside quotation marks. The table below shows the type that each column should be:\n",
    "\n",
    "| Column Names  | Current Type  | Should be   |\n",
    "| ------------- |:-------------:| -----------:|\n",
    "| PassengerID   | Str           | int         |         \n",
    "| Survived      | Str           | int         |\n",
    "| Pclass        | Str           | int         |\n",
    "| Name          | Str           | str         |\n",
    "| Sex           | Str           | str         |\n",
    "| Age           | Str           | float       |\n",
    "| SibSp         | Str           | int         |\n",
    "| Parch         | Str           | int         |\n",
    "| Ticket        | Str           | str         |\n",
    "| Fare          | Str           | float       |\n",
    "| Cabin         | Str           | str         |\n",
    "| Embarked      | Str           | str         |\n",
    "\n"
   ]
  },
  {
   "cell_type": "markdown",
   "metadata": {},
   "source": [
    "# 7. Transform each column to the appropriate type if needed.\n",
    "\n",
    "Build a function called `transform_column` that takes arguments for a `data_dict`, `column_name`, and `datatype`, and use it to transofm the columns that need transformation.\n",
    "\n",
    "**NOTE:** There are values in this dataset that cannot be directly cast to a numerical value. Use `if/then` or `try/except` statements to handle errors. \n",
    "\n",
    "**To help identify potential sources of errors, explore the `set` of values in each column.**"
   ]
  },
  {
   "cell_type": "code",
   "execution_count": 26,
   "metadata": {
    "collapsed": true
   },
   "outputs": [],
   "source": [
    "def transform_column(column_name, datatype, data_dict = data_dict_columns):\n",
    "    col_val = data_dict[column_name]\n",
    "    datatype == float or int or bool\n",
    "    for index, item in enumerate(col_val):\n",
    "        try:\n",
    "            col_val[index] = datatype(item)\n",
    "        except:\n",
    "            col_val[index] = np.nan\n",
    "    return col_val\n"
   ]
  },
  {
   "cell_type": "code",
   "execution_count": 27,
   "metadata": {
    "collapsed": true
   },
   "outputs": [],
   "source": [
    "PassengerId_new = transform_column('PassengerId', int)\n",
    "Survived_new = transform_column('Survived', int)\n",
    "Age_new = transform_column('Age', float)\n",
    "SibSp_new = transform_column('SibSp', int)\n",
    "Parch_new = transform_column('Parch', int)\n",
    "Fare_new = transform_column('Fare', float)\n",
    "Pclass_new = transform_column('Pclass', int)\n"
   ]
  },
  {
   "cell_type": "markdown",
   "metadata": {},
   "source": [
    "# 8. Build functions to calculate the mean, sample standard deviation, and median of a list of ints or floats. Use `scipy.stats.mode` or build your own mode function!\n",
    "\n",
    "\n",
    "If you filled any missing values with `np.NaN`, you may need to handle that in your functions (look up `np.isnan()`).\n",
    "\n",
    "If building a `mode` function is too difficult, you import mode from `scipy.stats` using `from scipy.stats import mode`.\n",
    "\n",
    "**Optional:**  Build a function for calculating the Mode that returns the mode value *and* the count of that value. Mode is tricky, so start by building a function that counts the occurances of each value. You may also need to sort using a `key` with a `lambda function` inside. You may also find a `defaultdict` useful."
   ]
  },
  {
   "cell_type": "code",
   "execution_count": 71,
   "metadata": {
    "collapsed": true
   },
   "outputs": [],
   "source": [
    "from scipy.stats import mode"
   ]
  },
  {
   "cell_type": "markdown",
   "metadata": {},
   "source": [
    "Mean"
   ]
  },
  {
   "cell_type": "code",
   "execution_count": 59,
   "metadata": {},
   "outputs": [
    {
     "data": {
      "text/plain": [
       "29.69911764705882"
      ]
     },
     "execution_count": 59,
     "metadata": {},
     "output_type": "execute_result"
    }
   ],
   "source": [
    "def this_mean(data_list):\n",
    "    data_list = [float(num) for num in data_list if not np.isnan(num)]\n",
    "    return np.sum(data_list)/len(data_list)\n",
    "this_mean(Age_new)"
   ]
  },
  {
   "cell_type": "markdown",
   "metadata": {},
   "source": [
    "Standard Deviation"
   ]
  },
  {
   "cell_type": "code",
   "execution_count": 30,
   "metadata": {},
   "outputs": [
    {
     "data": {
      "text/plain": [
       "14.516321150817316"
      ]
     },
     "execution_count": 30,
     "metadata": {},
     "output_type": "execute_result"
    }
   ],
   "source": [
    "def this_std(data_list):\n",
    "    data_list = [float(num) for num in data_list if not np.isnan(num)]\n",
    "    return np.std(data_list)\n",
    "\n",
    "this_std(Age_new)"
   ]
  },
  {
   "cell_type": "markdown",
   "metadata": {},
   "source": [
    "Median"
   ]
  },
  {
   "cell_type": "code",
   "execution_count": 60,
   "metadata": {},
   "outputs": [
    {
     "data": {
      "text/plain": [
       "28.0"
      ]
     },
     "execution_count": 60,
     "metadata": {},
     "output_type": "execute_result"
    }
   ],
   "source": [
    "def this_median(data_list):\n",
    "    data_list = [float(num) for num in data_list if not np.isnan(num)]\n",
    "    return np.median(data_list)\n",
    "this_median(Age_new)"
   ]
  },
  {
   "cell_type": "markdown",
   "metadata": {},
   "source": [
    "Mode"
   ]
  },
  {
   "cell_type": "code",
   "execution_count": 74,
   "metadata": {},
   "outputs": [
    {
     "data": {
      "text/plain": [
       "ModeResult(mode=array([ 24.]), count=array([30]))"
      ]
     },
     "execution_count": 74,
     "metadata": {},
     "output_type": "execute_result"
    }
   ],
   "source": [
    "def this_mode(data_list):\n",
    "    data_list = [float(num) for num in data_list if not np.isnan(num)]\n",
    "    return mode(data_list)\n",
    "\n",
    "this_mode(Age_new)"
   ]
  },
  {
   "cell_type": "markdown",
   "metadata": {},
   "source": [
    "# 9. Summary Statistics of Numerical Columns\n",
    "\n",
    "For numerical columns, what is the mean, standard deviation, mean, and mode for that data? Which measure of central tendency is the most descriptive of each column? Why? Explain your answer in a markdown cell."
   ]
  },
  {
   "cell_type": "code",
   "execution_count": 34,
   "metadata": {
    "collapsed": true
   },
   "outputs": [],
   "source": [
    "num_col = [PassengerId_new, Survived_new, Age_new, SibSp_new, Parch_new, Fare_new, Pclass_new]"
   ]
  },
  {
   "cell_type": "code",
   "execution_count": 75,
   "metadata": {
    "collapsed": true
   },
   "outputs": [],
   "source": [
    "col_name = ['PassengerId', 'Survived', 'Age', 'SibSp', 'Parch', 'Fare', 'Pclass']"
   ]
  },
  {
   "cell_type": "code",
   "execution_count": 69,
   "metadata": {},
   "outputs": [],
   "source": [
    "def get_stats(col, col_name):\n",
    "    results = {}\n",
    "    results[col_name] = {'mean': this_mean(col), \n",
    "                         'std': this_std(col),\n",
    "                         'median': this_median(col),\n",
    "                         'mode': this_mode(col)}\n",
    "    return results\n",
    "    "
   ]
  },
  {
   "cell_type": "code",
   "execution_count": 79,
   "metadata": {
    "scrolled": true
   },
   "outputs": [
    {
     "name": "stdout",
     "output_type": "stream",
     "text": [
      "{'PassengerId': {'mean': 446.0,\n",
      "                 'median': 446.0,\n",
      "                 'mode': ModeResult(mode=array([ 1.]), count=array([1])),\n",
      "                 'std': 257.20938292890224}}\n",
      "{'Survived': {'mean': 0.38383838383838381,\n",
      "              'median': 0.0,\n",
      "              'mode': ModeResult(mode=array([ 0.]), count=array([549])),\n",
      "              'std': 0.48631931786709987}}\n",
      "{'Age': {'mean': 29.69911764705882,\n",
      "         'median': 28.0,\n",
      "         'mode': ModeResult(mode=array([ 24.]), count=array([30])),\n",
      "         'std': 14.516321150817316}}\n",
      "{'SibSp': {'mean': 0.52300785634118963,\n",
      "           'median': 0.0,\n",
      "           'mode': ModeResult(mode=array([ 0.]), count=array([608])),\n",
      "           'std': 1.1021244350892878}}\n",
      "{'Parch': {'mean': 0.38159371492704824,\n",
      "           'median': 0.0,\n",
      "           'mode': ModeResult(mode=array([ 0.]), count=array([678])),\n",
      "           'std': 0.80560476124522085}}\n",
      "{'Fare': {'mean': 32.204207968574636,\n",
      "          'median': 14.4542,\n",
      "          'mode': ModeResult(mode=array([ 8.05]), count=array([43])),\n",
      "          'std': 49.665534444774103}}\n",
      "{'Pclass': {'mean': 2.308641975308642,\n",
      "            'median': 3.0,\n",
      "            'mode': ModeResult(mode=array([ 3.]), count=array([491])),\n",
      "            'std': 0.83560193347951661}}\n"
     ]
    }
   ],
   "source": [
    "for col, name in zip(num_col, col_name):\n",
    "    results = get_stats(col, name)\n",
    "    pprint(results)"
   ]
  },
  {
   "cell_type": "markdown",
   "metadata": {},
   "source": [
    "**Fare**: Fare has a mean of 32 with a std. of almost 50. Because the median is around 14 and the mode is 8, the data is skewed, which means the median is the most appropriate measure to describe the datae\n",
    "\n",
    "**Age**: The median and mean are close so the data is not heavily skewed, the mean is appropriate measure.\n",
    "\n",
    "**Parch**: The mode is descriptive here, 678 individuals traveled without parents or spouses.\n",
    "\n",
    "**SibSp** : The mode is descriptive here, 608 individuals traveled without siblings.\n",
    "\n",
    "**PassengerID**: No descriptive statitics are informative.\n",
    "\n",
    "**Pclass**: Mode is descriptive here, more than half are class 3\n",
    "\n",
    "**Survived**: Mean is important here, it's the probability of survival on the Titanic.\n"
   ]
  },
  {
   "cell_type": "markdown",
   "metadata": {},
   "source": [
    "# 10. Splitting the Data to Predicting Survival\n",
    "\n",
    "For all the passengers in the dataset, the mean survival rate is around .38 (38% of the passengers survived). From our data, we may be able to profile who survived and who didn't!\n",
    "\n",
    "Split the data by pclass. Does the class a passenger was in affect survivability? You can do this by:\n",
    "* Creating a list of `True` and `False` values conditional on a column's value\n",
    "* Taking the mean of the `Survived` column where those values are `True`"
   ]
  },
  {
   "cell_type": "code",
   "execution_count": 18,
   "metadata": {},
   "outputs": [
    {
     "name": "stdout",
     "output_type": "stream",
     "text": [
      "0.62962962963\n",
      "0.472826086957\n",
      "0.242362525458\n"
     ]
    }
   ],
   "source": [
    "pclass1 = [c == 1  for c in data_dict_columns['Pclass']]\n",
    "pclass2 = [c == 2  for c in data_dict_columns['Pclass']]\n",
    "pclass3 = [c == 3  for c in data_dict_columns['Pclass']]\n",
    "\n",
    "\n",
    "pclass1_survival = [survived for index, survived in enumerate(data_dict_columns[\"Survived\"]) if pclass1[index]]\n",
    "pclass2_survival = [survived for index, survived in enumerate(data_dict_columns[\"Survived\"]) if pclass2[index]]\n",
    "pclass3_survival = [survived for index, survived in enumerate(data_dict_columns[\"Survived\"]) if pclass3[index]]\n",
    "\n",
    "print(np.mean(pclass1_survival))\n",
    "print(np.mean(pclass2_survival))\n",
    "print(np.mean(pclass3_survival))\n"
   ]
  },
  {
   "cell_type": "markdown",
   "metadata": {},
   "source": [
    "The class of the passenger affected survivability, passengers in class 1 had a higher rate of survival"
   ]
  },
  {
   "cell_type": "markdown",
   "metadata": {},
   "source": [
    "# 11. Independent Work\n",
    "\n",
    "Use the techniques from step 10 to make different conditional splits in the `Survived` column. Can you find a combination of splits that maximizes the survival rate?"
   ]
  },
  {
   "cell_type": "code",
   "execution_count": 19,
   "metadata": {},
   "outputs": [
    {
     "name": "stdout",
     "output_type": "stream",
     "text": [
      "0.345394736842\n",
      "0.535885167464\n",
      "0.464285714286\n",
      "0.152173913043\n"
     ]
    }
   ],
   "source": [
    "\n",
    "mask_sib0 = [c == 0  for c in data_dict_columns['SibSp']]\n",
    "mask_sib1 = [c == 1  for c in data_dict_columns['SibSp']]\n",
    "mask_sib2 = [c == 2  for c in data_dict_columns['SibSp']]\n",
    "mask_sibmore2 = [c > 2  for c in data_dict_columns['SibSp']]\n",
    "\n",
    "mask_sib0_survival = [survived for index, survived in enumerate(data_dict_columns[\"Survived\"]) if mask_sib0[index]]\n",
    "mask_sib1_survival = [survived for index, survived in enumerate(data_dict_columns[\"Survived\"]) if mask_sib1[index]]\n",
    "mask_sib2_survival = [survived for index, survived in enumerate(data_dict_columns[\"Survived\"]) if mask_sib2[index]]\n",
    "mask_sibmore2_survival = [survived for index, survived in enumerate(data_dict_columns[\"Survived\"]) if mask_sibmore2[index]]\n",
    "\n",
    "print(np.mean(mask_sib0_survival))\n",
    "print(np.mean(mask_sib1_survival))\n",
    "print(np.mean(mask_sib2_survival))\n",
    "print(np.mean(mask_sibmore2_survival))"
   ]
  },
  {
   "cell_type": "code",
   "execution_count": 20,
   "metadata": {},
   "outputs": [
    {
     "name": "stdout",
     "output_type": "stream",
     "text": [
      "0.612903225806\n",
      "0.371014492754\n",
      "0.423236514523\n",
      "0.34375\n"
     ]
    }
   ],
   "source": [
    "mask_age10 = [c < 10  for c in data_dict_columns['Age']]\n",
    "mask_age30 = [10 < c <= 30  for c in data_dict_columns['Age']]\n",
    "mask_age50 = [30 < c <= 50  for c in data_dict_columns['Age']]\n",
    "mask_agemore50 = [c > 50  for c in data_dict_columns['Age']]\n",
    "\n",
    "age10_survival = [survived for index, survived in enumerate(data_dict_columns[\"Survived\"]) if mask_age10[index]]\n",
    "age30_survival = [survived for index, survived in enumerate(data_dict_columns[\"Survived\"]) if mask_age30[index]]\n",
    "age50_survival = [survived for index, survived in enumerate(data_dict_columns[\"Survived\"]) if mask_age50[index]]\n",
    "agemore50_survival = [survived for index, survived in enumerate(data_dict_columns[\"Survived\"]) if mask_agemore50[index]]\n",
    "\n",
    "print(np.mean(age10_survival))\n",
    "print(np.mean(age30_survival))\n",
    "print(np.mean(age50_survival))\n",
    "print(np.mean(agemore50_survival))"
   ]
  },
  {
   "cell_type": "code",
   "execution_count": 21,
   "metadata": {},
   "outputs": [
    {
     "name": "stdout",
     "output_type": "stream",
     "text": [
      "0.345394736842\n",
      "0.535885167464\n",
      "0.464285714286\n",
      "0.464285714286\n"
     ]
    }
   ],
   "source": [
    "mask_parch0 = [c == 0  for c in data_dict_columns['SibSp']]\n",
    "mask_parch1 = [c == 1  for c in data_dict_columns['SibSp']]\n",
    "mask_parch2 = [c == 2  for c in data_dict_columns['SibSp']]\n",
    "mask_parchmore2 = [c > 2  for c in data_dict_columns['SibSp']]\n",
    "\n",
    "mask_parch0_survival = [survived for index, survived in enumerate(data_dict_columns[\"Survived\"]) if mask_parch0[index]]\n",
    "mask_parch1_survival = [survived for index, survived in enumerate(data_dict_columns[\"Survived\"]) if mask_parch1[index]]\n",
    "mask_parch2_survival = [survived for index, survived in enumerate(data_dict_columns[\"Survived\"]) if mask_parch2[index]]\n",
    "mask_parchmore2_survival = [survived for index, survived in enumerate(data_dict_columns[\"Survived\"]) if mask_parchmore2[index]]\n",
    "\n",
    "print(np.mean(mask_parch0_survival))\n",
    "print(np.mean(mask_parch1_survival))\n",
    "print(np.mean(mask_parch2_survival))\n",
    "print(np.mean(mask_parch2_survival))"
   ]
  },
  {
   "cell_type": "code",
   "execution_count": 22,
   "metadata": {
    "scrolled": true
   },
   "outputs": [
    {
     "name": "stdout",
     "output_type": "stream",
     "text": [
      "0.188908145581\n",
      "0.742038216561\n"
     ]
    }
   ],
   "source": [
    "male = [c == 'male'  for c in data_dict_columns['Sex']]\n",
    "female = [c == 'female'  for c in data_dict_columns['Sex']]\n",
    "\n",
    "male_survival = [survived for index, survived in enumerate(data_dict_columns[\"Survived\"]) if male[index]]\n",
    "female_survival = [survived for index, survived in enumerate(data_dict_columns[\"Survived\"]) if female[index]]\n",
    "\n",
    "print(np.mean(male_survival))\n",
    "print(np.mean(female_survival))"
   ]
  },
  {
   "cell_type": "markdown",
   "metadata": {},
   "source": [
    "Females and children in lower age group and higher class has the highest rate of survival"
   ]
  },
  {
   "cell_type": "markdown",
   "metadata": {},
   "source": [
    "# 12. Distributions\n",
    "\n",
    "### A) For each of your numeric features, use `pyplot` subplots to plot a hisogram for each feature.\n",
    "\n",
    "* Make sure to title each subplot.\n",
    "* If you get an error, it may be caused by `np.NaN`"
   ]
  },
  {
   "cell_type": "code",
   "execution_count": 23,
   "metadata": {
    "collapsed": true
   },
   "outputs": [],
   "source": [
    "import matplotlib.pyplot as plt\n",
    "%matplotlib inline"
   ]
  },
  {
   "cell_type": "code",
   "execution_count": 27,
   "metadata": {},
   "outputs": [
    {
     "data": {
      "image/png": "[encoded data removed]",
      "text/plain": [
       "<matplotlib.figure.Figure at 0x7f26f69536d8>"
      ]
     },
     "metadata": {},
     "output_type": "display_data"
    }
   ],
   "source": [
    "# Your code here import matplotlib.pyplot as plt\n",
    "figure, ax = plt.subplots(nrows=2, ncols=2, figsize=(10, 10))\n",
    "ax[0,0].hist([x for x in data_dict_columns['Parch'] if not np.isnan(x)])\n",
    "ax[0,0].title.set_text('Parch')\n",
    "ax[0,1].hist(([x for x in data_dict_columns['SibSp'] if not np.isnan(x)]))\n",
    "ax[0,1].title.set_text('SibSp')\n",
    "ax[1,0].hist(([x for x in data_dict_columns['Age'] if not np.isnan(x)]))\n",
    "ax[1,0].title.set_text('Age')\n",
    "ax[1,1].hist(([x for x in data_dict_columns['Fare'] if not np.isnan(x)]))\n",
    "ax[1,1].title.set_text('Fare')"
   ]
  },
  {
   "cell_type": "markdown",
   "metadata": {},
   "source": [
    "### B) for each of these values, what's the 90% confidence interval of the population mean?\n",
    "\n",
    "* Create a function to find the confidence interval, and use it on each of the numeric columns.\n",
    "* What's your interpretation of the interval?"
   ]
  },
  {
   "cell_type": "code",
   "execution_count": 28,
   "metadata": {
    "collapsed": true
   },
   "outputs": [],
   "source": [
    "from scipy import stats\n",
    "def z_score(confidence):\n",
    "    return stats.norm.ppf((1-confidence)/2)\n",
    "\n",
    "def con_interval(data_list, confidence):\n",
    "    mean = this_mean(data_list)\n",
    "    z = z_score(confidence)\n",
    "    s = this_std(data_list)\n",
    "    square = np.sqrt(len(data_list))\n",
    "    low_tail = mean + z*s/square\n",
    "    high_tail = mean - z*s/square\n",
    "    return low_tail, high_tail\n"
   ]
  },
  {
   "cell_type": "code",
   "execution_count": 29,
   "metadata": {
    "scrolled": true
   },
   "outputs": [
    {
     "data": {
      "text/plain": [
       "(28.8055350160034, 30.59270027811424)"
      ]
     },
     "execution_count": 29,
     "metadata": {},
     "output_type": "execute_result"
    }
   ],
   "source": [
    "Age_conf = con_interval([x for x in data_dict_columns['Age'] if not np.isnan(x)], .90)\n",
    "Age_conf"
   ]
  },
  {
   "cell_type": "markdown",
   "metadata": {},
   "source": [
    "Base on the data, there's a 90% chance that the population mean of age is between 28.80 and 30.60"
   ]
  },
  {
   "cell_type": "code",
   "execution_count": 30,
   "metadata": {},
   "outputs": [
    {
     "data": {
      "text/plain": [
       "(29.467405089819092, 34.941010847330183)"
      ]
     },
     "execution_count": 30,
     "metadata": {},
     "output_type": "execute_result"
    }
   ],
   "source": [
    "Fare_conf = con_interval([x for x in data_dict_columns['Fare'] if not np.isnan(x)], .90)\n",
    "Fare_conf"
   ]
  },
  {
   "cell_type": "markdown",
   "metadata": {},
   "source": [
    "Base on the data, there's a 90% chance that the population mean of fare is between 29.47 and 34.94"
   ]
  },
  {
   "cell_type": "code",
   "execution_count": 31,
   "metadata": {
    "scrolled": true
   },
   "outputs": [
    {
     "data": {
      "text/plain": [
       "(0.33720113052494716, 0.42598629932914933)"
      ]
     },
     "execution_count": 31,
     "metadata": {},
     "output_type": "execute_result"
    }
   ],
   "source": [
    "Parch_conf = con_interval([x for x in data_dict_columns['Parch'] if not np.isnan(x)], .90)\n",
    "Parch_conf"
   ]
  },
  {
   "cell_type": "markdown",
   "metadata": {},
   "source": [
    "Base on the data, there's a 90% chance that the population mean of parch is between 0.38 and 0.43"
   ]
  },
  {
   "cell_type": "code",
   "execution_count": 32,
   "metadata": {},
   "outputs": [
    {
     "data": {
      "text/plain": [
       "(0.4622756532063742, 0.58374005947600505)"
      ]
     },
     "execution_count": 32,
     "metadata": {},
     "output_type": "execute_result"
    }
   ],
   "source": [
    "SibSp_conf = con_interval([x for x in data_dict_columns['SibSp'] if not np.isnan(x)], .90)\n",
    "SibSp_conf"
   ]
  },
  {
   "cell_type": "markdown",
   "metadata": {},
   "source": [
    "Base on the data, there's a 90% chance that the population mean of Sibsp is between 0.46 and 0.58"
   ]
  },
  {
   "cell_type": "markdown",
   "metadata": {},
   "source": [
    "# 13. Pandas"
   ]
  },
  {
   "cell_type": "markdown",
   "metadata": {},
   "source": [
    "### A: Load the titanic csv into a `DataFrame` using `pd.read_csv()`"
   ]
  },
  {
   "cell_type": "code",
   "execution_count": 33,
   "metadata": {
    "collapsed": true
   },
   "outputs": [],
   "source": [
    "import pandas as pd"
   ]
  },
  {
   "cell_type": "code",
   "execution_count": 34,
   "metadata": {
    "collapsed": true
   },
   "outputs": [],
   "source": [
    "titanic = pd.read_csv('titanic.csv')"
   ]
  },
  {
   "cell_type": "markdown",
   "metadata": {},
   "source": [
    "### B: Display the first 5 rows, the last 4 rows, and a sample of 3 rows."
   ]
  },
  {
   "cell_type": "code",
   "execution_count": 35,
   "metadata": {
    "scrolled": true
   },
   "outputs": [
    {
     "data": {
      "text/html": [
       "<div>\n",
       "<table border=\"1\" class=\"dataframe\">\n",
       "  <thead>\n",
       "    <tr style=\"text-align: right;\">\n",
       "      <th></th>\n",
       "      <th>PassengerId</th>\n",
       "      <th>Survived</th>\n",
       "      <th>Pclass</th>\n",
       "      <th>Name</th>\n",
       "      <th>Sex</th>\n",
       "      <th>Age</th>\n",
       "      <th>SibSp</th>\n",
       "      <th>Parch</th>\n",
       "      <th>Ticket</th>\n",
       "      <th>Fare</th>\n",
       "      <th>Cabin</th>\n",
       "      <th>Embarked</th>\n",
       "    </tr>\n",
       "  </thead>\n",
       "  <tbody>\n",
       "    <tr>\n",
       "      <th>0</th>\n",
       "      <td>1</td>\n",
       "      <td>0</td>\n",
       "      <td>3</td>\n",
       "      <td>Braund, Mr. Owen Harris</td>\n",
       "      <td>male</td>\n",
       "      <td>22.0</td>\n",
       "      <td>1</td>\n",
       "      <td>0</td>\n",
       "      <td>A/5 21171</td>\n",
       "      <td>7.2500</td>\n",
       "      <td>NaN</td>\n",
       "      <td>S</td>\n",
       "    </tr>\n",
       "    <tr>\n",
       "      <th>1</th>\n",
       "      <td>2</td>\n",
       "      <td>1</td>\n",
       "      <td>1</td>\n",
       "      <td>Cumings, Mrs. John Bradley (Florence Briggs Th...</td>\n",
       "      <td>female</td>\n",
       "      <td>38.0</td>\n",
       "      <td>1</td>\n",
       "      <td>0</td>\n",
       "      <td>PC 17599</td>\n",
       "      <td>71.2833</td>\n",
       "      <td>C85</td>\n",
       "      <td>C</td>\n",
       "    </tr>\n",
       "    <tr>\n",
       "      <th>2</th>\n",
       "      <td>3</td>\n",
       "      <td>1</td>\n",
       "      <td>3</td>\n",
       "      <td>Heikkinen, Miss. Laina</td>\n",
       "      <td>female</td>\n",
       "      <td>26.0</td>\n",
       "      <td>0</td>\n",
       "      <td>0</td>\n",
       "      <td>STON/O2. 3101282</td>\n",
       "      <td>7.9250</td>\n",
       "      <td>NaN</td>\n",
       "      <td>S</td>\n",
       "    </tr>\n",
       "    <tr>\n",
       "      <th>3</th>\n",
       "      <td>4</td>\n",
       "      <td>1</td>\n",
       "      <td>1</td>\n",
       "      <td>Futrelle, Mrs. Jacques Heath (Lily May Peel)</td>\n",
       "      <td>female</td>\n",
       "      <td>35.0</td>\n",
       "      <td>1</td>\n",
       "      <td>0</td>\n",
       "      <td>113803</td>\n",
       "      <td>53.1000</td>\n",
       "      <td>C123</td>\n",
       "      <td>S</td>\n",
       "    </tr>\n",
       "    <tr>\n",
       "      <th>4</th>\n",
       "      <td>5</td>\n",
       "      <td>0</td>\n",
       "      <td>3</td>\n",
       "      <td>Allen, Mr. William Henry</td>\n",
       "      <td>male</td>\n",
       "      <td>35.0</td>\n",
       "      <td>0</td>\n",
       "      <td>0</td>\n",
       "      <td>373450</td>\n",
       "      <td>8.0500</td>\n",
       "      <td>NaN</td>\n",
       "      <td>S</td>\n",
       "    </tr>\n",
       "    <tr>\n",
       "      <th>5</th>\n",
       "      <td>6</td>\n",
       "      <td>0</td>\n",
       "      <td>3</td>\n",
       "      <td>Moran, Mr. James</td>\n",
       "      <td>male</td>\n",
       "      <td>NaN</td>\n",
       "      <td>0</td>\n",
       "      <td>0</td>\n",
       "      <td>330877</td>\n",
       "      <td>8.4583</td>\n",
       "      <td>NaN</td>\n",
       "      <td>Q</td>\n",
       "    </tr>\n",
       "  </tbody>\n",
       "</table>\n",
       "</div>"
      ],
      "text/plain": [
       "   PassengerId  Survived  Pclass  \\\n",
       "0            1         0       3   \n",
       "1            2         1       1   \n",
       "2            3         1       3   \n",
       "3            4         1       1   \n",
       "4            5         0       3   \n",
       "5            6         0       3   \n",
       "\n",
       "                                                Name     Sex   Age  SibSp  \\\n",
       "0                            Braund, Mr. Owen Harris    male  22.0      1   \n",
       "1  Cumings, Mrs. John Bradley (Florence Briggs Th...  female  38.0      1   \n",
       "2                             Heikkinen, Miss. Laina  female  26.0      0   \n",
       "3       Futrelle, Mrs. Jacques Heath (Lily May Peel)  female  35.0      1   \n",
       "4                           Allen, Mr. William Henry    male  35.0      0   \n",
       "5                                   Moran, Mr. James    male   NaN      0   \n",
       "\n",
       "   Parch            Ticket     Fare Cabin Embarked  \n",
       "0      0         A/5 21171   7.2500   NaN        S  \n",
       "1      0          PC 17599  71.2833   C85        C  \n",
       "2      0  STON/O2. 3101282   7.9250   NaN        S  \n",
       "3      0            113803  53.1000  C123        S  \n",
       "4      0            373450   8.0500   NaN        S  \n",
       "5      0            330877   8.4583   NaN        Q  "
      ]
     },
     "execution_count": 35,
     "metadata": {},
     "output_type": "execute_result"
    }
   ],
   "source": [
    "titanic.iloc[0:6]\n"
   ]
  },
  {
   "cell_type": "code",
   "execution_count": 36,
   "metadata": {},
   "outputs": [
    {
     "data": {
      "text/html": [
       "<div>\n",
       "<table border=\"1\" class=\"dataframe\">\n",
       "  <thead>\n",
       "    <tr style=\"text-align: right;\">\n",
       "      <th></th>\n",
       "      <th>PassengerId</th>\n",
       "      <th>Survived</th>\n",
       "      <th>Pclass</th>\n",
       "      <th>Name</th>\n",
       "      <th>Sex</th>\n",
       "      <th>Age</th>\n",
       "      <th>SibSp</th>\n",
       "      <th>Parch</th>\n",
       "      <th>Ticket</th>\n",
       "      <th>Fare</th>\n",
       "      <th>Cabin</th>\n",
       "      <th>Embarked</th>\n",
       "    </tr>\n",
       "  </thead>\n",
       "  <tbody>\n",
       "    <tr>\n",
       "      <th>887</th>\n",
       "      <td>888</td>\n",
       "      <td>1</td>\n",
       "      <td>1</td>\n",
       "      <td>Graham, Miss. Margaret Edith</td>\n",
       "      <td>female</td>\n",
       "      <td>19.0</td>\n",
       "      <td>0</td>\n",
       "      <td>0</td>\n",
       "      <td>112053</td>\n",
       "      <td>30.00</td>\n",
       "      <td>B42</td>\n",
       "      <td>S</td>\n",
       "    </tr>\n",
       "    <tr>\n",
       "      <th>888</th>\n",
       "      <td>889</td>\n",
       "      <td>0</td>\n",
       "      <td>3</td>\n",
       "      <td>Johnston, Miss. Catherine Helen \"Carrie\"</td>\n",
       "      <td>female</td>\n",
       "      <td>NaN</td>\n",
       "      <td>1</td>\n",
       "      <td>2</td>\n",
       "      <td>W./C. 6607</td>\n",
       "      <td>23.45</td>\n",
       "      <td>NaN</td>\n",
       "      <td>S</td>\n",
       "    </tr>\n",
       "    <tr>\n",
       "      <th>889</th>\n",
       "      <td>890</td>\n",
       "      <td>1</td>\n",
       "      <td>1</td>\n",
       "      <td>Behr, Mr. Karl Howell</td>\n",
       "      <td>male</td>\n",
       "      <td>26.0</td>\n",
       "      <td>0</td>\n",
       "      <td>0</td>\n",
       "      <td>111369</td>\n",
       "      <td>30.00</td>\n",
       "      <td>C148</td>\n",
       "      <td>C</td>\n",
       "    </tr>\n",
       "    <tr>\n",
       "      <th>890</th>\n",
       "      <td>891</td>\n",
       "      <td>0</td>\n",
       "      <td>3</td>\n",
       "      <td>Dooley, Mr. Patrick</td>\n",
       "      <td>male</td>\n",
       "      <td>32.0</td>\n",
       "      <td>0</td>\n",
       "      <td>0</td>\n",
       "      <td>370376</td>\n",
       "      <td>7.75</td>\n",
       "      <td>NaN</td>\n",
       "      <td>Q</td>\n",
       "    </tr>\n",
       "  </tbody>\n",
       "</table>\n",
       "</div>"
      ],
      "text/plain": [
       "     PassengerId  Survived  Pclass                                      Name  \\\n",
       "887          888         1       1              Graham, Miss. Margaret Edith   \n",
       "888          889         0       3  Johnston, Miss. Catherine Helen \"Carrie\"   \n",
       "889          890         1       1                     Behr, Mr. Karl Howell   \n",
       "890          891         0       3                       Dooley, Mr. Patrick   \n",
       "\n",
       "        Sex   Age  SibSp  Parch      Ticket   Fare Cabin Embarked  \n",
       "887  female  19.0      0      0      112053  30.00   B42        S  \n",
       "888  female   NaN      1      2  W./C. 6607  23.45   NaN        S  \n",
       "889    male  26.0      0      0      111369  30.00  C148        C  \n",
       "890    male  32.0      0      0      370376   7.75   NaN        Q  "
      ]
     },
     "execution_count": 36,
     "metadata": {},
     "output_type": "execute_result"
    }
   ],
   "source": [
    "titanic.iloc[-4:]"
   ]
  },
  {
   "cell_type": "code",
   "execution_count": 37,
   "metadata": {},
   "outputs": [
    {
     "data": {
      "text/html": [
       "<div>\n",
       "<table border=\"1\" class=\"dataframe\">\n",
       "  <thead>\n",
       "    <tr style=\"text-align: right;\">\n",
       "      <th></th>\n",
       "      <th>PassengerId</th>\n",
       "      <th>Survived</th>\n",
       "      <th>Pclass</th>\n",
       "      <th>Name</th>\n",
       "      <th>Sex</th>\n",
       "      <th>Age</th>\n",
       "      <th>SibSp</th>\n",
       "      <th>Parch</th>\n",
       "      <th>Ticket</th>\n",
       "      <th>Fare</th>\n",
       "      <th>Cabin</th>\n",
       "      <th>Embarked</th>\n",
       "    </tr>\n",
       "  </thead>\n",
       "  <tbody>\n",
       "    <tr>\n",
       "      <th>262</th>\n",
       "      <td>263</td>\n",
       "      <td>0</td>\n",
       "      <td>1</td>\n",
       "      <td>Taussig, Mr. Emil</td>\n",
       "      <td>male</td>\n",
       "      <td>52.0</td>\n",
       "      <td>1</td>\n",
       "      <td>1</td>\n",
       "      <td>110413</td>\n",
       "      <td>79.6500</td>\n",
       "      <td>E67</td>\n",
       "      <td>S</td>\n",
       "    </tr>\n",
       "    <tr>\n",
       "      <th>622</th>\n",
       "      <td>623</td>\n",
       "      <td>1</td>\n",
       "      <td>3</td>\n",
       "      <td>Nakid, Mr. Sahid</td>\n",
       "      <td>male</td>\n",
       "      <td>20.0</td>\n",
       "      <td>1</td>\n",
       "      <td>1</td>\n",
       "      <td>2653</td>\n",
       "      <td>15.7417</td>\n",
       "      <td>NaN</td>\n",
       "      <td>C</td>\n",
       "    </tr>\n",
       "    <tr>\n",
       "      <th>18</th>\n",
       "      <td>19</td>\n",
       "      <td>0</td>\n",
       "      <td>3</td>\n",
       "      <td>Vander Planke, Mrs. Julius (Emelia Maria Vande...</td>\n",
       "      <td>female</td>\n",
       "      <td>31.0</td>\n",
       "      <td>1</td>\n",
       "      <td>0</td>\n",
       "      <td>345763</td>\n",
       "      <td>18.0000</td>\n",
       "      <td>NaN</td>\n",
       "      <td>S</td>\n",
       "    </tr>\n",
       "  </tbody>\n",
       "</table>\n",
       "</div>"
      ],
      "text/plain": [
       "     PassengerId  Survived  Pclass  \\\n",
       "262          263         0       1   \n",
       "622          623         1       3   \n",
       "18            19         0       3   \n",
       "\n",
       "                                                  Name     Sex   Age  SibSp  \\\n",
       "262                                  Taussig, Mr. Emil    male  52.0      1   \n",
       "622                                   Nakid, Mr. Sahid    male  20.0      1   \n",
       "18   Vander Planke, Mrs. Julius (Emelia Maria Vande...  female  31.0      1   \n",
       "\n",
       "     Parch  Ticket     Fare Cabin Embarked  \n",
       "262      1  110413  79.6500   E67        S  \n",
       "622      1    2653  15.7417   NaN        C  \n",
       "18       0  345763  18.0000   NaN        S  "
      ]
     },
     "execution_count": 37,
     "metadata": {},
     "output_type": "execute_result"
    }
   ],
   "source": [
    "titanic.sample(3)"
   ]
  },
  {
   "cell_type": "markdown",
   "metadata": {},
   "source": [
    "### C: Create a row mask that is `True` when `Pclass == 3`. Use this to mask your `DataFrame`. Find the mean of the `Survived` column. Is it the same as what we calculated in part 10?"
   ]
  },
  {
   "cell_type": "code",
   "execution_count": 38,
   "metadata": {},
   "outputs": [
    {
     "data": {
      "text/plain": [
       "0.24236252545824846"
      ]
     },
     "execution_count": 38,
     "metadata": {},
     "output_type": "execute_result"
    }
   ],
   "source": [
    "pclass3_mask = titanic[titanic['Pclass'] == 3]\n",
    "pclass3_mask\n",
    "pclass3_mask['Survived'].mean()"
   ]
  },
  {
   "cell_type": "markdown",
   "metadata": {},
   "source": [
    "This is the same mean as we calculated in part 10"
   ]
  },
  {
   "cell_type": "markdown",
   "metadata": {},
   "source": [
    "### D: Using a `.groupby()`, what is the mean of the survival column grouped by `Pclass` and `Sex`. What are your observations?"
   ]
  },
  {
   "cell_type": "code",
   "execution_count": 39,
   "metadata": {},
   "outputs": [
    {
     "data": {
      "text/html": [
       "<div>\n",
       "<table border=\"1\" class=\"dataframe\">\n",
       "  <thead>\n",
       "    <tr style=\"text-align: right;\">\n",
       "      <th></th>\n",
       "      <th></th>\n",
       "      <th>PassengerId</th>\n",
       "      <th>Survived</th>\n",
       "      <th>Age</th>\n",
       "      <th>SibSp</th>\n",
       "      <th>Parch</th>\n",
       "      <th>Fare</th>\n",
       "    </tr>\n",
       "    <tr>\n",
       "      <th>Pclass</th>\n",
       "      <th>Sex</th>\n",
       "      <th></th>\n",
       "      <th></th>\n",
       "      <th></th>\n",
       "      <th></th>\n",
       "      <th></th>\n",
       "      <th></th>\n",
       "    </tr>\n",
       "  </thead>\n",
       "  <tbody>\n",
       "    <tr>\n",
       "      <th rowspan=\"2\" valign=\"top\">1</th>\n",
       "      <th>female</th>\n",
       "      <td>469.212766</td>\n",
       "      <td>0.968085</td>\n",
       "      <td>34.611765</td>\n",
       "      <td>0.553191</td>\n",
       "      <td>0.457447</td>\n",
       "      <td>106.125798</td>\n",
       "    </tr>\n",
       "    <tr>\n",
       "      <th>male</th>\n",
       "      <td>455.729508</td>\n",
       "      <td>0.368852</td>\n",
       "      <td>41.281386</td>\n",
       "      <td>0.311475</td>\n",
       "      <td>0.278689</td>\n",
       "      <td>67.226127</td>\n",
       "    </tr>\n",
       "    <tr>\n",
       "      <th rowspan=\"2\" valign=\"top\">2</th>\n",
       "      <th>female</th>\n",
       "      <td>443.105263</td>\n",
       "      <td>0.921053</td>\n",
       "      <td>28.722973</td>\n",
       "      <td>0.486842</td>\n",
       "      <td>0.605263</td>\n",
       "      <td>21.970121</td>\n",
       "    </tr>\n",
       "    <tr>\n",
       "      <th>male</th>\n",
       "      <td>447.962963</td>\n",
       "      <td>0.157407</td>\n",
       "      <td>30.740707</td>\n",
       "      <td>0.342593</td>\n",
       "      <td>0.222222</td>\n",
       "      <td>19.741782</td>\n",
       "    </tr>\n",
       "    <tr>\n",
       "      <th rowspan=\"2\" valign=\"top\">3</th>\n",
       "      <th>female</th>\n",
       "      <td>399.729167</td>\n",
       "      <td>0.500000</td>\n",
       "      <td>21.750000</td>\n",
       "      <td>0.895833</td>\n",
       "      <td>0.798611</td>\n",
       "      <td>16.118810</td>\n",
       "    </tr>\n",
       "    <tr>\n",
       "      <th>male</th>\n",
       "      <td>455.515850</td>\n",
       "      <td>0.135447</td>\n",
       "      <td>26.507589</td>\n",
       "      <td>0.498559</td>\n",
       "      <td>0.224784</td>\n",
       "      <td>12.661633</td>\n",
       "    </tr>\n",
       "  </tbody>\n",
       "</table>\n",
       "</div>"
      ],
      "text/plain": [
       "               PassengerId  Survived        Age     SibSp     Parch  \\\n",
       "Pclass Sex                                                            \n",
       "1      female   469.212766  0.968085  34.611765  0.553191  0.457447   \n",
       "       male     455.729508  0.368852  41.281386  0.311475  0.278689   \n",
       "2      female   443.105263  0.921053  28.722973  0.486842  0.605263   \n",
       "       male     447.962963  0.157407  30.740707  0.342593  0.222222   \n",
       "3      female   399.729167  0.500000  21.750000  0.895833  0.798611   \n",
       "       male     455.515850  0.135447  26.507589  0.498559  0.224784   \n",
       "\n",
       "                     Fare  \n",
       "Pclass Sex                 \n",
       "1      female  106.125798  \n",
       "       male     67.226127  \n",
       "2      female   21.970121  \n",
       "       male     19.741782  \n",
       "3      female   16.118810  \n",
       "       male     12.661633  "
      ]
     },
     "execution_count": 39,
     "metadata": {},
     "output_type": "execute_result"
    }
   ],
   "source": [
    "titanic.groupby(['Pclass','Sex']).mean()"
   ]
  },
  {
   "cell_type": "markdown",
   "metadata": {},
   "source": [
    "Females in class 1 has a much higher chance of survival and male in class 3 has the lowest chance of survival"
   ]
  },
  {
   "cell_type": "markdown",
   "metadata": {},
   "source": [
    "### E: Survival Rate by Age Range:  `pd.cut()` takes two arguments: A `list`, `Series`, or `array`, and a list of bins. Create a new column in your `DataFrame` using `pd.cut()` that groups your ages into bins of 5 years. Then, use `.groupby()` to display the survival rate and count for each age group"
   ]
  },
  {
   "cell_type": "code",
   "execution_count": 40,
   "metadata": {
    "collapsed": true
   },
   "outputs": [],
   "source": [
    "age_bins =[0, 5, 10, 15, 20, 25, 30, 35, 40, 45, 50, 55, 60, 65, 70, 75, 80]"
   ]
  },
  {
   "cell_type": "code",
   "execution_count": 41,
   "metadata": {},
   "outputs": [
    {
     "data": {
      "text/plain": [
       "Age_bin\n",
       "(0, 5]      0.704545\n",
       "(5, 10]     0.350000\n",
       "(10, 15]    0.578947\n",
       "(15, 20]    0.343750\n",
       "(20, 25]    0.344262\n",
       "(25, 30]    0.388889\n",
       "(30, 35]    0.465909\n",
       "(35, 40]    0.417910\n",
       "(40, 45]    0.361702\n",
       "(45, 50]    0.410256\n",
       "(50, 55]    0.416667\n",
       "(55, 60]    0.388889\n",
       "(60, 65]    0.285714\n",
       "(65, 70]    0.000000\n",
       "(70, 75]    0.000000\n",
       "(75, 80]    1.000000\n",
       "Name: Survived, dtype: float64"
      ]
     },
     "metadata": {},
     "output_type": "display_data"
    },
    {
     "data": {
      "text/plain": [
       "Age_bin\n",
       "(0, 5]       44\n",
       "(5, 10]      20\n",
       "(10, 15]     19\n",
       "(15, 20]     96\n",
       "(20, 25]    122\n",
       "(25, 30]    108\n",
       "(30, 35]     88\n",
       "(35, 40]     67\n",
       "(40, 45]     47\n",
       "(45, 50]     39\n",
       "(50, 55]     24\n",
       "(55, 60]     18\n",
       "(60, 65]     14\n",
       "(65, 70]      3\n",
       "(70, 75]      4\n",
       "(75, 80]      1\n",
       "Name: Survived, dtype: int64"
      ]
     },
     "metadata": {},
     "output_type": "display_data"
    }
   ],
   "source": [
    "# Your code here\n",
    "pd.cut(titanic['Age'], age_bins)\n",
    "titanic['Age_bin'] = pd.cut(titanic['Age'], age_bins)\n",
    "titanic.head()\n",
    "display(titanic.groupby(['Age_bin'])['Survived'].mean())\n",
    "display(titanic.groupby(['Age_bin'])['Survived'].count())"
   ]
  },
  {
   "cell_type": "markdown",
   "metadata": {},
   "source": [
    "# 14. Hypothesis Testing\n",
    "\n",
    "### A) Hypothesis:\n",
    "\n",
    "Create a null and alternate hypothesis to ask the following quesiton: Was the `Age` of survivors different from that of people who didn't survive?"
   ]
  },
  {
   "cell_type": "markdown",
   "metadata": {},
   "source": [
    "**Hypotheses:**\n",
    "\n",
    "$H_0$: The mean age of survivors is the same as the mean age of people who did not survive\n",
    "\n",
    "$H_1$: The mean age of surivors is diffrent than the mean age of those who did not survive"
   ]
  },
  {
   "cell_type": "markdown",
   "metadata": {},
   "source": [
    "### B) T-Testing\n",
    "\n",
    "Use a t-test to test your null hypothesis. What's the p-value? What's your interpretation? Do you accept or reject your null hypothesis? What does this mean in terms of `Age`?"
   ]
  },
  {
   "cell_type": "code",
   "execution_count": 42,
   "metadata": {
    "collapsed": true
   },
   "outputs": [],
   "source": [
    "from scipy import stats"
   ]
  },
  {
   "cell_type": "code",
   "execution_count": 43,
   "metadata": {
    "collapsed": true,
    "scrolled": true
   },
   "outputs": [],
   "source": [
    "ttest = stats.ttest_ind"
   ]
  },
  {
   "cell_type": "code",
   "execution_count": 44,
   "metadata": {
    "collapsed": true
   },
   "outputs": [],
   "source": [
    "t_survived = titanic[titanic['Survived'] == 1] ['Age'].dropna()\n",
    "t_not_survived = titanic[titanic['Survived'] == 0] ['Age'].dropna()           \n"
   ]
  },
  {
   "cell_type": "code",
   "execution_count": 45,
   "metadata": {
    "scrolled": true
   },
   "outputs": [
    {
     "data": {
      "text/plain": [
       "Ttest_indResult(statistic=-2.0666869462538102, pvalue=0.039124654013482488)"
      ]
     },
     "execution_count": 45,
     "metadata": {},
     "output_type": "execute_result"
    }
   ],
   "source": [
    "ttest(t_survived, t_not_survived)"
   ]
  },
  {
   "cell_type": "markdown",
   "metadata": {},
   "source": [
    "The pvalue is 0.039 which means that I would reject my null hypothesis that says the average age of survivors is the same as the avereage age of those who did not survive. This means that Age was a factor in the chance of survival on the Titanic."
   ]
  },
  {
   "cell_type": "markdown",
   "metadata": {},
   "source": [
    "# 13. Write-up\n",
    "\n",
    "Use markdown cells to answer the following questions:\n",
    "\n",
    "1. What is the main difference between a list and a tuple?\n",
    "    - A list is mutable and is enclosed by []\n",
    "    - A tuple is not mutable and is enclosed by ()\n",
    "2. Can you iterate over a dictionary? If so, how?\n",
    "   -  Yes, you can iterate over a dictionary with a for loop and using the dictionary.items function\n",
    "3. What is the term for a list or array of `True` and `False` values used to select certain rows or columns in a `DataFrame`?\n",
    "    -  Masking\n",
    "4. If you have a continuous variable, when would the median be a better descriptor than the mean? Why?\n",
    "    -  If the mean is significantly different from the median, the data is probably skewed. In such a case the median more accurately reflects the true center of the data and thus is a better statistic to use in your analysis, especially when applying standard deviation to it.\n",
    "5. Give a qualitative description of the survivors of the titanic based on the effects of your splits in the data on survival rate. Or, given a row, what columns would you look at to guess if they survived?\n",
    "    -  Given a row, you can look at column \"Sex\" and/or \"Class\" to guess if they survived\n"
   ]
  }
 ],
 "metadata": {
  "kernelspec": {
   "display_name": "Python 3",
   "language": "python",
   "name": "python3"
  },
  "language_info": {
   "codemirror_mode": {
    "name": "ipython",
    "version": 3
   },
   "file_extension": ".py",
   "mimetype": "text/x-python",
   "name": "python",
   "nbconvert_exporter": "python",
   "pygments_lexer": "ipython3",
   "version": "3.6.1"
  }
 },
 "nbformat": 4,
 "nbformat_minor": 2
}
