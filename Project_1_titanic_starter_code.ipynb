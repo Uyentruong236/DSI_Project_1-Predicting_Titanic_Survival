{
 "cells": [
  {
   "cell_type": "markdown",
   "metadata": {},
   "source": [
    "![](https://upload.wikimedia.org/wikipedia/en/b/bb/Titanic_breaks_in_half.jpg)"
   ]
  },
  {
   "cell_type": "markdown",
   "metadata": {},
   "source": [
    "# Project 1: [Titanic](https://www.kaggle.com/c/titanic/data)\n",
    "---\n",
    "\n",
    "The sinking of the RMS Titanic is one of the most infamous shipwrecks in history.  On April 15, 1912, during her maiden voyage, the Titanic sank after colliding with an iceberg, killing 1502 out of 2224 passengers and crew. This sensational tragedy shocked the international community and led to better safety regulations for ships.\n",
    "\n",
    "One of the reasons that the shipwreck led to such loss of life was that there were not enough lifeboats for the passengers and crew. Although there was some element of luck involved in surviving the sinking, some groups of people were more likely to survive than others, such as women, children, and the upper-class.\n",
    "\n",
    "In this project, you will exercise your skills with loading data, python data structures, and Pandas to identify charactaristics of Titanic survivors!\n",
    "\n",
    "---\n",
    "#### Your goals should be to:\n",
    "* Practice python programming including loops, conditionals, types, functions, and data structures\n",
    "* Start thinking critically about manipulating, organizing, and interpreting data\n",
    "* Troubleshoot errors\n",
    "\n",
    "---\n",
    "#### Getting Started:\n",
    "* **fork** the repository on git.generalassemb.ly\n",
    "* **clone** your forked repo\n",
    "\n",
    "---\n",
    "#### Submission:\n",
    "* You should be working on a **fork** of the GA project one repository. \n",
    "* Use **git** to manage versions of your project. Make sure to `add`, `commit`, and `push` your changes to **your fork** of the github \n",
    "* Submit a link to your project repository in the submission form by **Friday, 9/29 11:59 PM**. You will then receive the solutions.\n",
    "* Create a copy of your original notebook (file > make a copy in jupyter notebook)\n",
    "* In the copy, use the solutions to correct your work. Make sure to take note of your successes and struggles. Did you learn anything new from correcting your work?\n",
    "* Submit the corrected version by **Sunday, 10/1 11:59 PM** to receive instructor feedback on your work. ***Projects submitted after this deadline will not receive instructor feedback.***"
   ]
  },
  {
   "cell_type": "markdown",
   "metadata": {},
   "source": [
    "### Considerations:\n",
    "\n",
    "* You will be generating long data strutures- avoid displaying the whole thing. Display just the first or last few entries and look at the length or shape to check whether your code gives you back what you want and expect.\n",
    "* Make functions whenever possiblle!\n",
    "* Be explicit with your naming. You may forget what `this_list` is, but you will have an idea of what `passenger_fare_list` is. Variable naming will help you in the long run!\n",
    "* Don't forget about tab autocomplete!\n",
    "* Use markdown cells to document your planning, thoughts, and results. \n",
    "* Delete cells you will not include in your final submission\n",
    "* Try to solve your own problems using this framework:\n",
    "  1. Check your spelling\n",
    "  2. Google your errors. Is it on stackoverflow?\n",
    "  3. Ask your classmates\n",
    "  4. Ask a TA or instructor\n",
    "* Do not include errors or stack traces (fix them!)"
   ]
  },
  {
   "cell_type": "markdown",
   "metadata": {},
   "source": [
    "# 1. Using the `with open()` method in the `csv` library, load the titanic dataset into a list of lists.\n",
    "\n",
    "* The `type()` of your dataset should be `list`\n",
    "* The `type()` of each element in your dataset should also be `list`\n",
    "* The `len()` of your dataset should be 892 (892 rows, including the header)\n",
    "* The `len()` of each row element in your dataset should be have a `len()` of 12\n",
    "* Print out the first 3 rows including the header to check your data."
   ]
  },
  {
   "cell_type": "code",
   "execution_count": 1,
   "metadata": {
    "collapsed": true
   },
   "outputs": [],
   "source": [
    "import csv\n",
    "from IPython.display import display\n",
    "import numpy as np\n",
    "import pandas as pd"
   ]
  },
  {
   "cell_type": "code",
   "execution_count": 2,
   "metadata": {
    "collapsed": true
   },
   "outputs": [],
   "source": [
    "from pprint import pprint"
   ]
  },
  {
   "cell_type": "code",
   "execution_count": 3,
   "metadata": {},
   "outputs": [
    {
     "name": "stdout",
     "output_type": "stream",
     "text": [
      "The length of dataset is: 892\n",
      "The length of each row is: 12\n",
      "The data type of the dataset is: <class 'list'>\n",
      "The data type of each row/element in the dataset is: <class 'list'>\n",
      "[['PassengerId',\n",
      "  'Survived',\n",
      "  'Pclass',\n",
      "  'Name',\n",
      "  'Sex',\n",
      "  'Age',\n",
      "  'SibSp',\n",
      "  'Parch',\n",
      "  'Ticket',\n",
      "  'Fare',\n",
      "  'Cabin',\n",
      "  'Embarked'],\n",
      " ['1',\n",
      "  '0',\n",
      "  '3',\n",
      "  'Braund, Mr. Owen Harris',\n",
      "  'male',\n",
      "  '22',\n",
      "  '1',\n",
      "  '0',\n",
      "  'A/5 21171',\n",
      "  '7.25',\n",
      "  '',\n",
      "  'S'],\n",
      " ['2',\n",
      "  '1',\n",
      "  '1',\n",
      "  'Cumings, Mrs. John Bradley (Florence Briggs Thayer)',\n",
      "  'female',\n",
      "  '38',\n",
      "  '1',\n",
      "  '0',\n",
      "  'PC 17599',\n",
      "  '71.2833',\n",
      "  'C85',\n",
      "  'C']]\n"
     ]
    }
   ],
   "source": [
    "with open ('titanic.csv') as file:\n",
    "    reader = csv.reader(file, delimiter=',')\n",
    "    titanic_list = list(reader)\n",
    "    dataset_length = len(titanic_list)\n",
    "    row_lenth = len(titanic_list[0])\n",
    "    print('The length of dataset is: ' + str(dataset_length))\n",
    "    print('The length of each row is: ' + str(row_lenth))\n",
    "    print('The data type of the dataset is: ' + str(type(titanic_list)))\n",
    "    print('The data type of each row/element in the dataset is: ' + str(type(titanic_list[1])))\n",
    "    pprint(titanic_list[0:3])\n"
   ]
  },
  {
   "cell_type": "markdown",
   "metadata": {},
   "source": [
    "# 2. Separate the first header row from the rest of your dataset. \n",
    "\n",
    "* The header should be a list of the column names\n",
    "* The data should be the rest of your data\n",
    "* Display the header and the first row of the dataset zipped together using `zip`\n",
    "* Your result should look like...\n",
    "\n",
    "\n",
    "```\n",
    "[('PassengerId', '1'),\n",
    " ('Survived', '0'),\n",
    " ('Pclass', '3'),\n",
    " ...\n",
    " ('Embarked', 'S')]\n",
    " ```"
   ]
  },
  {
   "cell_type": "code",
   "execution_count": 4,
   "metadata": {},
   "outputs": [
    {
     "data": {
      "text/plain": [
       "[[('PassengerId', '1'),\n",
       "  ('Survived', '0'),\n",
       "  ('Pclass', '3'),\n",
       "  ('Name', 'Braund, Mr. Owen Harris'),\n",
       "  ('Sex', 'male'),\n",
       "  ('Age', '22'),\n",
       "  ('SibSp', '1'),\n",
       "  ('Parch', '0'),\n",
       "  ('Ticket', 'A/5 21171'),\n",
       "  ('Fare', '7.25'),\n",
       "  ('Cabin', ''),\n",
       "  ('Embarked', 'S')],\n",
       " [('PassengerId', '2'),\n",
       "  ('Survived', '1'),\n",
       "  ('Pclass', '1'),\n",
       "  ('Name', 'Cumings, Mrs. John Bradley (Florence Briggs Thayer)'),\n",
       "  ('Sex', 'female'),\n",
       "  ('Age', '38'),\n",
       "  ('SibSp', '1'),\n",
       "  ('Parch', '0'),\n",
       "  ('Ticket', 'PC 17599'),\n",
       "  ('Fare', '71.2833'),\n",
       "  ('Cabin', 'C85'),\n",
       "  ('Embarked', 'C')],\n",
       " [('PassengerId', '3'),\n",
       "  ('Survived', '1'),\n",
       "  ('Pclass', '3'),\n",
       "  ('Name', 'Heikkinen, Miss. Laina'),\n",
       "  ('Sex', 'female'),\n",
       "  ('Age', '26'),\n",
       "  ('SibSp', '0'),\n",
       "  ('Parch', '0'),\n",
       "  ('Ticket', 'STON/O2. 3101282'),\n",
       "  ('Fare', '7.925'),\n",
       "  ('Cabin', ''),\n",
       "  ('Embarked', 'S')]]"
      ]
     },
     "metadata": {},
     "output_type": "display_data"
    }
   ],
   "source": [
    "header = titanic_list[0]\n",
    "#print(header)\n",
    "data = titanic_list[1:]\n",
    "# data_2 = list(zip(header, data[1]))\n",
    "# pprint(data_2)\n",
    "\n",
    "new_titanic_list = []\n",
    "\n",
    "for row in data: \n",
    "    new_titanic_list.append(list(zip(header, row)))\n",
    "display(new_titanic_list[0:3])"
   ]
  },
  {
   "cell_type": "markdown",
   "metadata": {},
   "source": [
    "# 3. Using a `for` loop, load your data into a `dict` called `data_dict`.\n",
    "\n",
    "* The keys of your `data_dict` should be `PassengerId`\n",
    "* The values of your `data_dict` should be dictionaries...\n",
    "  * Each of these dictionaries should reperesent a column value within a row\n",
    "  * The keys should be the names of the columns\n",
    "  * The values should be the values of that column\n",
    "  \n",
    "The beginning of your `data_dict` should look like: \n",
    "\n",
    "    {'1': {'Age': '22',\n",
    "      'Cabin': '',\n",
    "      'Embarked': 'S',\n",
    "      'Fare': '7.25',\n",
    "      'Name': 'Braund, Mr. Owen Harris',\n",
    "      'Parch': '0',\n",
    "      'Pclass': '3',\n",
    "      'Sex': 'male',\n",
    "      'SibSp': '1',\n",
    "      'Survived': '0',\n",
    "      'Ticket': 'A/5 21171'},\n",
    "     '10': {'Age': '14',\n",
    "      'Cabin': '',\n",
    "      'Embarked': 'C',\n",
    "      'Fare': '30.0708',\n",
    "      'Name': 'Nasser, Mrs. Nicholas (Adele Achem)',\n",
    "      'Parch': '0',\n",
    "      'Pclass': '2',\n",
    "      'Sex': 'female',\n",
    "      'SibSp': '1',\n",
    "      'Survived': '1',\n",
    "      'Ticket': '237736'},\n",
    "      ...\n",
    "      }"
   ]
  },
  {
   "cell_type": "code",
   "execution_count": 5,
   "metadata": {
    "collapsed": true
   },
   "outputs": [],
   "source": [
    "data_dict = {}\n",
    "for row in new_titanic_list:\n",
    "    passenger_dict = {k:v for k,v in row}\n",
    "    data_dict[passenger_dict['PassengerId']] = passenger_dict\n",
    "    \n",
    "#pprint(data_dict)"
   ]
  },
  {
   "cell_type": "markdown",
   "metadata": {},
   "source": [
    "# 4. Repeat step 3 using a dictionary comprehension.\n",
    "\n",
    "* Using `==`, check if your `data_dict` from your `for` loop is the same as the one from your dictionary comprehension."
   ]
  },
  {
   "cell_type": "code",
   "execution_count": 6,
   "metadata": {
    "collapsed": true
   },
   "outputs": [],
   "source": [
    "data_dict_comp = {new_titanic_list[index][0][1]: {k:v for k,v in row} for index, row in enumerate(new_titanic_list)}\n",
    "# pprint(data_dict_comp)\n"
   ]
  },
  {
   "cell_type": "code",
   "execution_count": 7,
   "metadata": {},
   "outputs": [
    {
     "data": {
      "text/plain": [
       "True"
      ]
     },
     "execution_count": 7,
     "metadata": {},
     "output_type": "execute_result"
    }
   ],
   "source": [
    "data_dict == data_dict_comp"
   ]
  },
  {
   "cell_type": "markdown",
   "metadata": {},
   "source": [
    "# 5. Transform your `data_dict` to be oriented by column and call it `data_dict_columns`\n",
    "\n",
    "* Currently, our `data_dict` is oriented by row, indexed by `\"PassengerId\"`. \n",
    "* Transform your data so that the title of each row is a key, the values are of type `list` and represent column vectors.\n",
    "\n",
    "If you display `data_dict_columns`, the beginning should look like...\n",
    "\n",
    "    {'Age': ['25',\n",
    "      '36',\n",
    "      '24',\n",
    "      '40',\n",
    "      '45',\n",
    "      '2',\n",
    "      '24',\n",
    "      '28',\n",
    "      '33',\n",
    "      '26',\n",
    "      '39',\n",
    "      ..."
   ]
  },
  {
   "cell_type": "code",
   "execution_count": 8,
   "metadata": {
    "scrolled": true
   },
   "outputs": [],
   "source": [
    "#get list of dictionaries of all passenger info from data_dict_\n",
    "columns = list(data_dict_comp.values())\n",
    "# pprint(columns[0])\n",
    "\n",
    "data_dict_columns = {}\n",
    "\n",
    "#initialize empty list for the values\n",
    "for key in columns[0]:\n",
    "        data_dict_columns[key] = []\n",
    "#loop through keys of all passenger dictionaries to get values and append values into list\n",
    "for key_1 in data_dict_columns.keys():\n",
    "    for passenger in (columns):\n",
    "        value = passenger[key_1]\n",
    "        data_dict_columns[key_1].append(value)\n",
    "\n",
    "# pprint(data_dict_columns)     \n"
   ]
  },
  {
   "cell_type": "markdown",
   "metadata": {},
   "source": [
    "# 6. Data Types\n",
    "\n",
    "What is the current `type` of each column? What do you think the data type of each column *should* be? The data types in Python are...\n",
    "\n",
    "* `int`\n",
    "* `float`\n",
    "* `str`\n",
    "* `bool`\n",
    "* `tuple`\n",
    "* `list`\n",
    "* `dict`\n",
    "* `set`\n",
    "\n",
    "In a markdown cell, describe what each column represents and what the `type` of each value should be. **Extra:** If you want to be fancy, use a [markdown table](https://github.com/adam-p/markdown-here/wiki/Markdown-Cheatsheet#tables) to display your results."
   ]
  },
  {
   "cell_type": "markdown",
   "metadata": {},
   "source": [
    "#### Your answer here (double click here to edit this markdown cell, and press shift-enter exit edit mode!):\n",
    "\n",
    "All the values are currently strings because each value is inside quotation marks. The table below shows the type that each column should be:\n",
    "\n",
    "| Column Names  | Current Type  | Should be   |\n",
    "| ------------- |:-------------:| -----------:|\n",
    "| PassengerID   | Str           | int         |         \n",
    "| Survived      | Str           | int         |\n",
    "| Pclass        | Str           | int         |\n",
    "| Name          | Str           | str         |\n",
    "| Sex           | Str           | str         |\n",
    "| Age           | Str           | float       |\n",
    "| SibSp         | Str           | int         |\n",
    "| Parch         | Str           | int         |\n",
    "| Ticket        | Str           | str         |\n",
    "| Fare          | Str           | float       |\n",
    "| Cabin         | Str           | str         |\n",
    "| Embarked      | Str           | str         |\n",
    "\n"
   ]
  },
  {
   "cell_type": "markdown",
   "metadata": {},
   "source": [
    "# 7. Transform each column to the appropriate type if needed.\n",
    "\n",
    "Build a function called `transform_column` that takes arguments for a `data_dict`, `column_name`, and `datatype`, and use it to transofm the columns that need transformation.\n",
    "\n",
    "**NOTE:** There are values in this dataset that cannot be directly cast to a numerical value. Use `if/then` or `try/except` statements to handle errors. \n",
    "\n",
    "**To help identify potential sources of errors, explore the `set` of values in each column.**"
   ]
  },
  {
   "cell_type": "code",
   "execution_count": 9,
   "metadata": {
    "collapsed": true
   },
   "outputs": [],
   "source": [
    "def transform_column(column_name, datatype, data_dict = data_dict_columns):\n",
    "    col_val = data_dict[column_name]\n",
    "    datatype == float or int or bool\n",
    "    for index, item in enumerate(col_val):\n",
    "        try:\n",
    "            col_val[index] = datatype(item)\n",
    "        except:\n",
    "            col_val[index] = np.nan\n",
    "    return col_val\n"
   ]
  },
  {
   "cell_type": "code",
   "execution_count": 10,
   "metadata": {},
   "outputs": [],
   "source": [
    "PassengerId_new = transform_column('PassengerId', int)\n",
    "Survived_new = transform_column('Survived', int)\n",
    "Age_new = transform_column('Age', float)\n",
    "SibSp_new = transform_column('SibSp', int)\n",
    "Parch_new = transform_column('Parch', int)\n",
    "Fare_new = transform_column('Fare', float)\n",
    "Pclass_new = transform_column('Pclass', int)\n"
   ]
  },
  {
   "cell_type": "markdown",
   "metadata": {},
   "source": [
    "# 8. Build functions to calculate the mean, sample standard deviation, and median of a list of ints or floats. Use `scipy.stats.mode` or build your own mode function!\n",
    "\n",
    "\n",
    "If you filled any missing values with `np.NaN`, you may need to handle that in your functions (look up `np.isnan()`).\n",
    "\n",
    "If building a `mode` function is too difficult, you import mode from `scipy.stats` using `from scipy.stats import mode`.\n",
    "\n",
    "**Optional:**  Build a function for calculating the Mode that returns the mode value *and* the count of that value. Mode is tricky, so start by building a function that counts the occurances of each value. You may also need to sort using a `key` with a `lambda function` inside. You may also find a `defaultdict` useful."
   ]
  },
  {
   "cell_type": "code",
   "execution_count": 11,
   "metadata": {
    "collapsed": true
   },
   "outputs": [],
   "source": [
    "from scipy.stats import mode"
   ]
  },
  {
   "cell_type": "markdown",
   "metadata": {},
   "source": [
    "Mean"
   ]
  },
  {
   "cell_type": "code",
   "execution_count": 12,
   "metadata": {
    "collapsed": true
   },
   "outputs": [],
   "source": [
    "def this_mean(data_list):\n",
    "    data_list = [float(num) for num in data_list if not np.isnan(num)]\n",
    "    return np.sum(data_list)/len(data_list)"
   ]
  },
  {
   "cell_type": "markdown",
   "metadata": {},
   "source": [
    "Standard Deviation"
   ]
  },
  {
   "cell_type": "code",
   "execution_count": 13,
   "metadata": {},
   "outputs": [
    {
     "data": {
      "text/plain": [
       "14.516321150817316"
      ]
     },
     "execution_count": 13,
     "metadata": {},
     "output_type": "execute_result"
    }
   ],
   "source": [
    "def this_std(data_list):\n",
    "    data_list = [float(num) for num in data_list if not np.isnan(num)]\n",
    "    return np.std(data_list)\n",
    "\n",
    "this_std(Age_new)"
   ]
  },
  {
   "cell_type": "markdown",
   "metadata": {},
   "source": [
    "Median"
   ]
  },
  {
   "cell_type": "code",
   "execution_count": 14,
   "metadata": {
    "collapsed": true
   },
   "outputs": [],
   "source": [
    "def this_median(data_list):\n",
    "    data_list = [float(num) for num in data_list if not np.isnan(num)]\n",
    "    return np.median(data_list)"
   ]
  },
  {
   "cell_type": "markdown",
   "metadata": {},
   "source": [
    "Mode"
   ]
  },
  {
   "cell_type": "code",
   "execution_count": 15,
   "metadata": {
    "collapsed": true
   },
   "outputs": [],
   "source": [
    "def this_mode(data_list):\n",
    "    data_list = [float(num) for num in data_list if not np.isnan(num)]\n",
    "    return mode(data_list)"
   ]
  },
  {
   "cell_type": "markdown",
   "metadata": {},
   "source": [
    "# 9. Summary Statistics of Numerical Columns\n",
    "\n",
    "For numerical columns, what is the mean, standard deviation, mean, and mode for that data? Which measure of central tendency is the most descriptive of each column? Why? Explain your answer in a markdown cell."
   ]
  },
  {
   "cell_type": "code",
   "execution_count": 16,
   "metadata": {},
   "outputs": [
    {
     "name": "stdout",
     "output_type": "stream",
     "text": [
      "Age mean: 29.6991176471\n",
      "Age std: 14.5163211508\n",
      "Age mode: ModeResult(mode=array([ 24.]), count=array([30]))\n",
      "Age median 28.0\n",
      "Fare mean: 32.2042079686\n",
      "Fare std: 49.6655344448\n",
      "Fare mode: ModeResult(mode=array([ 8.05]), count=array([43]))\n",
      "Fare median 14.4542\n",
      "Pclass mean: 2.30864197531\n",
      "Pclass std: 0.83560193348\n",
      "Pclass mode: ModeResult(mode=array([ 3.]), count=array([491]))\n",
      "Pclass median 3.0\n",
      "Survived mean: 0.383838383838\n",
      "Survived std: 0.486319317867\n",
      "Surived mode: ModeResult(mode=array([ 0.]), count=array([549]))\n",
      "Survived median 0.0\n"
     ]
    }
   ],
   "source": [
    "#Age\n",
    "print('Age mean: ' + str(this_mean(Age_new)))\n",
    "print('Age std: ' + str(this_std(Age_new)))\n",
    "print('Age mode: ' + str(this_mode(Age_new)))\n",
    "print('Age median ' + str(this_median(Age_new)))\n",
    "#Fare\n",
    "print('Fare mean: ' + str(this_mean(Fare_new)))\n",
    "print('Fare std: ' + str(this_std(Fare_new)))\n",
    "print('Fare mode: ' + str(this_mode(Fare_new)))\n",
    "print('Fare median ' + str(this_median(Fare_new)))\n",
    "# Pclass\n",
    "print('Pclass mean: ' + str(this_mean(Pclass_new)))\n",
    "print('Pclass std: ' + str(this_std(Pclass_new)))\n",
    "print('Pclass mode: ' + str(this_mode(Pclass_new)))\n",
    "print('Pclass median ' + str(this_median(Pclass_new)))\n",
    "#Survived\n",
    "print('Survived mean: ' + str(this_mean(Survived_new)))\n",
    "print('Survived std: ' + str(this_std(Survived_new)))\n",
    "print('Surived mode: ' + str(this_mode(Survived_new)))\n",
    "print('Survived median ' + str(this_median(Survived_new)))"
   ]
  },
  {
   "cell_type": "markdown",
   "metadata": {},
   "source": [
    "-  For the column age, the  median would be the most descriptive so you can see the central tendency of the age since there might be outliers of age that could have influenced the average age.\n",
    "-  For the column Fare, the standard deviation would be the most descriptive so you can see the spread of fare from the mean. \n",
    "-  For the column Pclass, mode would be most descriptive to see what class most people were in on the Titanic.\n",
    "-  For Survived, mean would be the most descriptive to see the probability of survival rate.\n"
   ]
  },
  {
   "cell_type": "markdown",
   "metadata": {},
   "source": [
    "# 10. Splitting the Data to Predicting Survival\n",
    "\n",
    "For all the passengers in the dataset, the mean survival rate is around .38 (38% of the passengers survived). From our data, we may be able to profile who survived and who didn't!\n",
    "\n",
    "Split the data by pclass. Does the class a passenger was in affect survivability? You can do this by:\n",
    "* Creating a list of `True` and `False` values conditional on a column's value\n",
    "* Taking the mean of the `Survived` column where those values are `True`"
   ]
  },
  {
   "cell_type": "markdown",
   "metadata": {},
   "source": [
    "The class of the passenger affected survivability, passengers in class 1 had a higher rate of survival"
   ]
  },
  {
   "cell_type": "code",
   "execution_count": 17,
   "metadata": {},
   "outputs": [
    {
     "name": "stdout",
     "output_type": "stream",
     "text": [
      "0.62962962963\n",
      "0.472826086957\n",
      "0.242362525458\n"
     ]
    }
   ],
   "source": [
    "mask_pclass1 = [c == 1  for c in data_dict_columns['Pclass']]\n",
    "mask_pclass2 = [c == 2  for c in data_dict_columns['Pclass']]\n",
    "mask_pclass3 = [c == 3  for c in data_dict_columns['Pclass']]\n",
    "\n",
    "pclass1_survival = [survived for index, survived in enumerate(data_dict_columns[\"Survived\"]) if mask_pclass1[index]]\n",
    "pclass2_survival = [survived for index, survived in enumerate(data_dict_columns[\"Survived\"]) if mask_pclass2[index]]\n",
    "pclass3_survival = [survived for index, survived in enumerate(data_dict_columns[\"Survived\"]) if mask_pclass3[index]]\n",
    "\n",
    "print(np.mean(pclass1_survival))\n",
    "print(np.mean(pclass2_survival))\n",
    "print(np.mean(pclass3_survival))"
   ]
  },
  {
   "cell_type": "markdown",
   "metadata": {},
   "source": [
    "# 11. Independent Work\n",
    "\n",
    "Use the techniques from step 10 to make different conditional splits in the `Survived` column. Can you find a combination of splits that maximizes the survival rate?"
   ]
  },
  {
   "cell_type": "code",
   "execution_count": null,
   "metadata": {},
   "outputs": [],
   "source": [
    "mask_sib0 = [c == 0  for c in data_dict_columns['SibSp']]\n",
    "mask_sib1 = [c == 1  for c in data_dict_columns['SibSp']]\n",
    "mask_sib2 = [c == 2  for c in data_dict_columns['SibSp']]\n",
    "mask_sibmore2 = [c > 2  for c in data_dict_columns['SibSp']]\n",
    "\n",
    "mask_sib0_survival = [survived for index, survived in enumerate(data_dict_columns[\"Survived\"]) if mask_sib0[index]]\n",
    "mask_sib1_survival = [survived for index, survived in enumerate(data_dict_columns[\"Survived\"]) if mask_sib1[index]]\n",
    "mask_sib2_survival = [survived for index, survived in enumerate(data_dict_columns[\"Survived\"]) if mask_sib2[index]]\n",
    "mask_sibmore2_survival = [survived for index, survived in enumerate(data_dict_columns[\"Survived\"]) if mask_sibmore2[index]]\n",
    "\n",
    "print(np.mean(mask_sib0_survival))\n",
    "print(np.mean(mask_sib1_survival))\n",
    "print(np.mean(mask_sib2_survival))\n",
    "print(np.mean(mask_sibmore2_survival))"
   ]
  },
  {
   "cell_type": "code",
   "execution_count": null,
   "metadata": {},
   "outputs": [],
   "source": [
    "mask_age10 = [c < 10  for c in data_dict_columns['Age']]\n",
    "mask_age30 = [10 < c <= 30  for c in data_dict_columns['Age']]\n",
    "mask_age50 = [30 < c <= 50  for c in data_dict_columns['Age']]\n",
    "mask_agemore50 = [c > 50  for c in data_dict_columns['Age']]\n",
    "\n",
    "age10_survival = [survived for index, survived in enumerate(data_dict_columns[\"Survived\"]) if mask_age10[index]]\n",
    "age30_survival = [survived for index, survived in enumerate(data_dict_columns[\"Survived\"]) if mask_age30[index]]\n",
    "age50_survival = [survived for index, survived in enumerate(data_dict_columns[\"Survived\"]) if mask_age50[index]]\n",
    "agemore50_survival = [survived for index, survived in enumerate(data_dict_columns[\"Survived\"]) if mask_agemore50[index]]\n",
    "\n",
    "print(np.mean(age10_survival))\n",
    "print(np.mean(age30_survival))\n",
    "print(np.mean(age50_survival))\n",
    "print(np.mean(agemore50_survival))"
   ]
  },
  {
   "cell_type": "code",
   "execution_count": null,
   "metadata": {},
   "outputs": [],
   "source": [
    "mask_parch0 = [c == 0  for c in data_dict_columns['SibSp']]\n",
    "mask_parch1 = [c == 1  for c in data_dict_columns['SibSp']]\n",
    "mask_parch2 = [c == 2  for c in data_dict_columns['SibSp']]\n",
    "mask_parchmore2 = [c > 2  for c in data_dict_columns['SibSp']]\n",
    "\n",
    "mask_parch0_survival = [survived for index, survived in enumerate(data_dict_columns[\"Survived\"]) if mask_parch0[index]]\n",
    "mask_parch1_survival = [survived for index, survived in enumerate(data_dict_columns[\"Survived\"]) if mask_parch1[index]]\n",
    "mask_parch2_survival = [survived for index, survived in enumerate(data_dict_columns[\"Survived\"]) if mask_parch2[index]]\n",
    "mask_parchmore2_survival = [survived for index, survived in enumerate(data_dict_columns[\"Survived\"]) if mask_parchmore2[index]]\n",
    "\n",
    "print(np.mean(mask_parch0_survival))\n",
    "print(np.mean(mask_parch1_survival))\n",
    "print(np.mean(mask_parch2_survival))\n",
    "print(np.mean(mask_parch2_survival))"
   ]
  },
  {
   "cell_type": "code",
   "execution_count": 27,
   "metadata": {},
   "outputs": [
    {
     "name": "stdout",
     "output_type": "stream",
     "text": [
      "0.188908145581\n",
      "0.742038216561\n"
     ]
    }
   ],
   "source": [
    "male = [c == 'male'  for c in data_dict_columns['Sex']]\n",
    "female = [c == 'female'  for c in data_dict_columns['Sex']]\n",
    "\n",
    "male_survival = [survived for index, survived in enumerate(data_dict_columns[\"Survived\"]) if male[index]]\n",
    "female_survival = [survived for index, survived in enumerate(data_dict_columns[\"Survived\"]) if female[index]]\n",
    "\n",
    "print(np.mean(male_survival))\n",
    "print(np.mean(female_survival))"
   ]
  },
  {
   "cell_type": "markdown",
   "metadata": {},
   "source": [
    "# 12. Distributions\n",
    "\n",
    "### A) For each of your numeric features, use `pyplot` subplots to plot a hisogram for each feature.\n",
    "\n",
    "* Make sure to title each subplot.\n",
    "* If you get an error, it may be caused by `np.NaN`"
   ]
  },
  {
   "cell_type": "code",
   "execution_count": 41,
   "metadata": {
    "collapsed": true
   },
   "outputs": [],
   "source": [
    "import matplotlib.pyplot as plt\n",
    "%matplotlib inline"
   ]
  },
  {
   "cell_type": "code",
   "execution_count": 42,
   "metadata": {},
   "outputs": [
    {
     "data": {
      "text/html": [
       "<div>\n",
       "<table border=\"1\" class=\"dataframe\">\n",
       "  <thead>\n",
       "    <tr style=\"text-align: right;\">\n",
       "      <th></th>\n",
       "      <th>PassengerId</th>\n",
       "      <th>Survived</th>\n",
       "      <th>Pclass</th>\n",
       "      <th>Name</th>\n",
       "      <th>Sex</th>\n",
       "      <th>Age</th>\n",
       "      <th>SibSp</th>\n",
       "      <th>Parch</th>\n",
       "      <th>Ticket</th>\n",
       "      <th>Fare</th>\n",
       "      <th>Cabin</th>\n",
       "      <th>Embarked</th>\n",
       "    </tr>\n",
       "  </thead>\n",
       "  <tbody>\n",
       "    <tr>\n",
       "      <th>0</th>\n",
       "      <td>1</td>\n",
       "      <td>0</td>\n",
       "      <td>3</td>\n",
       "      <td>Braund, Mr. Owen Harris</td>\n",
       "      <td>male</td>\n",
       "      <td>22.0</td>\n",
       "      <td>1</td>\n",
       "      <td>0</td>\n",
       "      <td>A/5 21171</td>\n",
       "      <td>7.2500</td>\n",
       "      <td>NaN</td>\n",
       "      <td>S</td>\n",
       "    </tr>\n",
       "    <tr>\n",
       "      <th>1</th>\n",
       "      <td>2</td>\n",
       "      <td>1</td>\n",
       "      <td>1</td>\n",
       "      <td>Cumings, Mrs. John Bradley (Florence Briggs Th...</td>\n",
       "      <td>female</td>\n",
       "      <td>38.0</td>\n",
       "      <td>1</td>\n",
       "      <td>0</td>\n",
       "      <td>PC 17599</td>\n",
       "      <td>71.2833</td>\n",
       "      <td>C85</td>\n",
       "      <td>C</td>\n",
       "    </tr>\n",
       "    <tr>\n",
       "      <th>2</th>\n",
       "      <td>3</td>\n",
       "      <td>1</td>\n",
       "      <td>3</td>\n",
       "      <td>Heikkinen, Miss. Laina</td>\n",
       "      <td>female</td>\n",
       "      <td>26.0</td>\n",
       "      <td>0</td>\n",
       "      <td>0</td>\n",
       "      <td>STON/O2. 3101282</td>\n",
       "      <td>7.9250</td>\n",
       "      <td>NaN</td>\n",
       "      <td>S</td>\n",
       "    </tr>\n",
       "    <tr>\n",
       "      <th>3</th>\n",
       "      <td>4</td>\n",
       "      <td>1</td>\n",
       "      <td>1</td>\n",
       "      <td>Futrelle, Mrs. Jacques Heath (Lily May Peel)</td>\n",
       "      <td>female</td>\n",
       "      <td>35.0</td>\n",
       "      <td>1</td>\n",
       "      <td>0</td>\n",
       "      <td>113803</td>\n",
       "      <td>53.1000</td>\n",
       "      <td>C123</td>\n",
       "      <td>S</td>\n",
       "    </tr>\n",
       "    <tr>\n",
       "      <th>4</th>\n",
       "      <td>5</td>\n",
       "      <td>0</td>\n",
       "      <td>3</td>\n",
       "      <td>Allen, Mr. William Henry</td>\n",
       "      <td>male</td>\n",
       "      <td>35.0</td>\n",
       "      <td>0</td>\n",
       "      <td>0</td>\n",
       "      <td>373450</td>\n",
       "      <td>8.0500</td>\n",
       "      <td>NaN</td>\n",
       "      <td>S</td>\n",
       "    </tr>\n",
       "    <tr>\n",
       "      <th>5</th>\n",
       "      <td>6</td>\n",
       "      <td>0</td>\n",
       "      <td>3</td>\n",
       "      <td>Moran, Mr. James</td>\n",
       "      <td>male</td>\n",
       "      <td>NaN</td>\n",
       "      <td>0</td>\n",
       "      <td>0</td>\n",
       "      <td>330877</td>\n",
       "      <td>8.4583</td>\n",
       "      <td>NaN</td>\n",
       "      <td>Q</td>\n",
       "    </tr>\n",
       "  </tbody>\n",
       "</table>\n",
       "</div>"
      ],
      "text/plain": [
       "   PassengerId  Survived  Pclass  \\\n",
       "0            1         0       3   \n",
       "1            2         1       1   \n",
       "2            3         1       3   \n",
       "3            4         1       1   \n",
       "4            5         0       3   \n",
       "5            6         0       3   \n",
       "\n",
       "                                                Name     Sex   Age  SibSp  \\\n",
       "0                            Braund, Mr. Owen Harris    male  22.0      1   \n",
       "1  Cumings, Mrs. John Bradley (Florence Briggs Th...  female  38.0      1   \n",
       "2                             Heikkinen, Miss. Laina  female  26.0      0   \n",
       "3       Futrelle, Mrs. Jacques Heath (Lily May Peel)  female  35.0      1   \n",
       "4                           Allen, Mr. William Henry    male  35.0      0   \n",
       "5                                   Moran, Mr. James    male   NaN      0   \n",
       "\n",
       "   Parch            Ticket     Fare Cabin Embarked  \n",
       "0      0         A/5 21171   7.2500   NaN        S  \n",
       "1      0          PC 17599  71.2833   C85        C  \n",
       "2      0  STON/O2. 3101282   7.9250   NaN        S  \n",
       "3      0            113803  53.1000  C123        S  \n",
       "4      0            373450   8.0500   NaN        S  \n",
       "5      0            330877   8.4583   NaN        Q  "
      ]
     },
     "execution_count": 42,
     "metadata": {},
     "output_type": "execute_result"
    }
   ],
   "source": [
    "titanic.iloc[0:6]"
   ]
  },
  {
   "cell_type": "code",
   "execution_count": 52,
   "metadata": {},
   "outputs": [
    {
     "ename": "ValueError",
     "evalue": "max must be larger than min in range parameter.",
     "output_type": "error",
     "traceback": [
      "\u001b[0;31m---------------------------------------------------------------------------\u001b[0m",
      "\u001b[0;31mValueError\u001b[0m                                Traceback (most recent call last)",
      "\u001b[0;32m<ipython-input-52-20b87d853201>\u001b[0m in \u001b[0;36m<module>\u001b[0;34m()\u001b[0m\n\u001b[1;32m      9\u001b[0m \u001b[0max\u001b[0m\u001b[0;34m[\u001b[0m\u001b[0;36m1\u001b[0m\u001b[0;34m,\u001b[0m\u001b[0;36m1\u001b[0m\u001b[0;34m]\u001b[0m\u001b[0;34m.\u001b[0m\u001b[0mhist\u001b[0m\u001b[0;34m(\u001b[0m\u001b[0mdata_dict_columns\u001b[0m\u001b[0;34m[\u001b[0m\u001b[0;34m'SibSp'\u001b[0m\u001b[0;34m]\u001b[0m\u001b[0;34m,\u001b[0m \u001b[0mbins\u001b[0m \u001b[0;34m=\u001b[0m \u001b[0;36m6\u001b[0m\u001b[0;34m)\u001b[0m\u001b[0;34m\u001b[0m\u001b[0m\n\u001b[1;32m     10\u001b[0m \u001b[0max\u001b[0m\u001b[0;34m[\u001b[0m\u001b[0;36m1\u001b[0m\u001b[0;34m,\u001b[0m\u001b[0;36m1\u001b[0m\u001b[0;34m]\u001b[0m\u001b[0;34m.\u001b[0m\u001b[0mtitle\u001b[0m\u001b[0;34m.\u001b[0m\u001b[0mset_text\u001b[0m\u001b[0;34m(\u001b[0m\u001b[0;34m'SibSp'\u001b[0m\u001b[0;34m)\u001b[0m\u001b[0;34m\u001b[0m\u001b[0m\n\u001b[0;32m---> 11\u001b[0;31m \u001b[0max\u001b[0m\u001b[0;34m[\u001b[0m\u001b[0;36m2\u001b[0m\u001b[0;34m,\u001b[0m\u001b[0;36m0\u001b[0m\u001b[0;34m]\u001b[0m\u001b[0;34m.\u001b[0m\u001b[0mhist\u001b[0m\u001b[0;34m(\u001b[0m\u001b[0mdata_dict_columns\u001b[0m\u001b[0;34m[\u001b[0m\u001b[0;34m'Age'\u001b[0m\u001b[0;34m]\u001b[0m\u001b[0;34m,\u001b[0m \u001b[0mbins\u001b[0m \u001b[0;34m=\u001b[0m \u001b[0;36m6\u001b[0m\u001b[0;34m)\u001b[0m\u001b[0;34m\u001b[0m\u001b[0m\n\u001b[0m\u001b[1;32m     12\u001b[0m \u001b[0max\u001b[0m\u001b[0;34m[\u001b[0m\u001b[0;36m2\u001b[0m\u001b[0;34m,\u001b[0m\u001b[0;36m0\u001b[0m\u001b[0;34m]\u001b[0m\u001b[0;34m.\u001b[0m\u001b[0mtitle\u001b[0m\u001b[0;34m.\u001b[0m\u001b[0mset_text\u001b[0m\u001b[0;34m(\u001b[0m\u001b[0;34m'Age'\u001b[0m\u001b[0;34m)\u001b[0m\u001b[0;34m\u001b[0m\u001b[0m\n\u001b[1;32m     13\u001b[0m \u001b[0max\u001b[0m\u001b[0;34m[\u001b[0m\u001b[0;36m2\u001b[0m\u001b[0;34m,\u001b[0m\u001b[0;36m1\u001b[0m\u001b[0;34m]\u001b[0m\u001b[0;34m.\u001b[0m\u001b[0mhist\u001b[0m\u001b[0;34m(\u001b[0m\u001b[0mdata_dict_columns\u001b[0m\u001b[0;34m[\u001b[0m\u001b[0;34m'Fare'\u001b[0m\u001b[0;34m]\u001b[0m\u001b[0;34m,\u001b[0m \u001b[0mbins\u001b[0m \u001b[0;34m=\u001b[0m \u001b[0;36m6\u001b[0m\u001b[0;34m)\u001b[0m\u001b[0;34m\u001b[0m\u001b[0m\n",
      "\u001b[0;32m/opt/conda/lib/python3.6/site-packages/matplotlib/__init__.py\u001b[0m in \u001b[0;36minner\u001b[0;34m(ax, *args, **kwargs)\u001b[0m\n\u001b[1;32m   1896\u001b[0m                     warnings.warn(msg % (label_namer, func.__name__),\n\u001b[1;32m   1897\u001b[0m                                   RuntimeWarning, stacklevel=2)\n\u001b[0;32m-> 1898\u001b[0;31m             \u001b[0;32mreturn\u001b[0m \u001b[0mfunc\u001b[0m\u001b[0;34m(\u001b[0m\u001b[0max\u001b[0m\u001b[0;34m,\u001b[0m \u001b[0;34m*\u001b[0m\u001b[0margs\u001b[0m\u001b[0;34m,\u001b[0m \u001b[0;34m**\u001b[0m\u001b[0mkwargs\u001b[0m\u001b[0;34m)\u001b[0m\u001b[0;34m\u001b[0m\u001b[0m\n\u001b[0m\u001b[1;32m   1899\u001b[0m         \u001b[0mpre_doc\u001b[0m \u001b[0;34m=\u001b[0m \u001b[0minner\u001b[0m\u001b[0;34m.\u001b[0m\u001b[0m__doc__\u001b[0m\u001b[0;34m\u001b[0m\u001b[0m\n\u001b[1;32m   1900\u001b[0m         \u001b[0;32mif\u001b[0m \u001b[0mpre_doc\u001b[0m \u001b[0;32mis\u001b[0m \u001b[0;32mNone\u001b[0m\u001b[0;34m:\u001b[0m\u001b[0;34m\u001b[0m\u001b[0m\n",
      "\u001b[0;32m/opt/conda/lib/python3.6/site-packages/matplotlib/axes/_axes.py\u001b[0m in \u001b[0;36mhist\u001b[0;34m(***failed resolving arguments***)\u001b[0m\n\u001b[1;32m   6193\u001b[0m             \u001b[0;31m# this will automatically overwrite bins,\u001b[0m\u001b[0;34m\u001b[0m\u001b[0;34m\u001b[0m\u001b[0m\n\u001b[1;32m   6194\u001b[0m             \u001b[0;31m# so that each histogram uses the same bins\u001b[0m\u001b[0;34m\u001b[0m\u001b[0;34m\u001b[0m\u001b[0m\n\u001b[0;32m-> 6195\u001b[0;31m             \u001b[0mm\u001b[0m\u001b[0;34m,\u001b[0m \u001b[0mbins\u001b[0m \u001b[0;34m=\u001b[0m \u001b[0mnp\u001b[0m\u001b[0;34m.\u001b[0m\u001b[0mhistogram\u001b[0m\u001b[0;34m(\u001b[0m\u001b[0mx\u001b[0m\u001b[0;34m[\u001b[0m\u001b[0mi\u001b[0m\u001b[0;34m]\u001b[0m\u001b[0;34m,\u001b[0m \u001b[0mbins\u001b[0m\u001b[0;34m,\u001b[0m \u001b[0mweights\u001b[0m\u001b[0;34m=\u001b[0m\u001b[0mw\u001b[0m\u001b[0;34m[\u001b[0m\u001b[0mi\u001b[0m\u001b[0;34m]\u001b[0m\u001b[0;34m,\u001b[0m \u001b[0;34m**\u001b[0m\u001b[0mhist_kwargs\u001b[0m\u001b[0;34m)\u001b[0m\u001b[0;34m\u001b[0m\u001b[0m\n\u001b[0m\u001b[1;32m   6196\u001b[0m             \u001b[0mm\u001b[0m \u001b[0;34m=\u001b[0m \u001b[0mm\u001b[0m\u001b[0;34m.\u001b[0m\u001b[0mastype\u001b[0m\u001b[0;34m(\u001b[0m\u001b[0mfloat\u001b[0m\u001b[0;34m)\u001b[0m  \u001b[0;31m# causes problems later if it's an int\u001b[0m\u001b[0;34m\u001b[0m\u001b[0m\n\u001b[1;32m   6197\u001b[0m             \u001b[0;32mif\u001b[0m \u001b[0mmlast\u001b[0m \u001b[0;32mis\u001b[0m \u001b[0;32mNone\u001b[0m\u001b[0;34m:\u001b[0m\u001b[0;34m\u001b[0m\u001b[0m\n",
      "\u001b[0;32m/opt/conda/lib/python3.6/site-packages/numpy/lib/function_base.py\u001b[0m in \u001b[0;36mhistogram\u001b[0;34m(a, bins, range, normed, weights, density)\u001b[0m\n\u001b[1;32m    664\u001b[0m     \u001b[0;32mif\u001b[0m \u001b[0mmn\u001b[0m \u001b[0;34m>\u001b[0m \u001b[0mmx\u001b[0m\u001b[0;34m:\u001b[0m\u001b[0;34m\u001b[0m\u001b[0m\n\u001b[1;32m    665\u001b[0m         raise ValueError(\n\u001b[0;32m--> 666\u001b[0;31m             'max must be larger than min in range parameter.')\n\u001b[0m\u001b[1;32m    667\u001b[0m     \u001b[0;32mif\u001b[0m \u001b[0;32mnot\u001b[0m \u001b[0mnp\u001b[0m\u001b[0;34m.\u001b[0m\u001b[0mall\u001b[0m\u001b[0;34m(\u001b[0m\u001b[0mnp\u001b[0m\u001b[0;34m.\u001b[0m\u001b[0misfinite\u001b[0m\u001b[0;34m(\u001b[0m\u001b[0;34m[\u001b[0m\u001b[0mmn\u001b[0m\u001b[0;34m,\u001b[0m \u001b[0mmx\u001b[0m\u001b[0;34m]\u001b[0m\u001b[0;34m)\u001b[0m\u001b[0;34m)\u001b[0m\u001b[0;34m:\u001b[0m\u001b[0;34m\u001b[0m\u001b[0m\n\u001b[1;32m    668\u001b[0m         raise ValueError(\n",
      "\u001b[0;31mValueError\u001b[0m: max must be larger than min in range parameter."
     ]
    },
    {
     "data": {
      "image/png": "[encoded data removed]",
      "text/plain": [
       "<matplotlib.figure.Figure at 0x7efddc08edd8>"
      ]
     },
     "metadata": {},
     "output_type": "display_data"
    }
   ],
   "source": [
    "# Your code here import matplotlib.pyplot as plt\n",
    "figure, ax = plt.subplots(nrows=3, ncols=2, figsize=(20, 30))\n",
    "ax[0,0].hist(data_dict_columns['Survived'], bins = 2)\n",
    "ax[0,0].title.set_text('Surived')\n",
    "ax[0,1].hist(data_dict_columns['Pclass'], bins = 3)\n",
    "ax[0,1].title.set_text('Pclass')\n",
    "ax[1,0].hist(data_dict_columns['Parch'], bins = 6)\n",
    "ax[1,0].title.set_text('Parch')\n",
    "ax[1,1].hist(data_dict_columns['SibSp'], bins = 6)\n",
    "ax[1,1].title.set_text('SibSp')\n",
    "ax[2,0].hist(data_dict_columns['Age'], bins = 6)\n",
    "ax[2,0].title.set_text('Age')\n",
    "ax[2,1].hist(data_dict_columns['Fare'], bins = 6)\n",
    "ax[2,1].title.set_text('Fare')"
   ]
  },
  {
   "cell_type": "markdown",
   "metadata": {},
   "source": [
    "### B) for each of these values, what's the 90% confidence interval of the population mean?\n",
    "\n",
    "* Create a function to find the confidence interval, and use it on each of the numeric columns.\n",
    "* What's your interpretation of the interval?"
   ]
  },
  {
   "cell_type": "code",
   "execution_count": null,
   "metadata": {
    "collapsed": true
   },
   "outputs": [],
   "source": [
    "from scipy import stats\n",
    "def con_interval(data_list, .1)\n"
   ]
  },
  {
   "cell_type": "markdown",
   "metadata": {},
   "source": [
    "$$\n",
    "\\text{confidence interval }= \\bar{x} \\pm z_{\\frac\\alpha2}\\cdot\\frac{S_x}{\\sqrt{n}}\n",
    "$$"
   ]
  },
  {
   "cell_type": "markdown",
   "metadata": {},
   "source": [
    "\n",
    "Where...\n",
    "* $\\bar{x}$ is the mean of our sample means\n",
    "* $n$ is our sample size\n",
    "* $\\alpha$ is our type-1 error (false positives). Ex: if we want 90% confidence, $\\alpha=.1$.\n",
    "* $z_{\\frac\\alpha2}$ is our multiplier. This is the z score of $\\frac{\\alpha}{2}$\n",
    "* $\\frac{S_x}{\\sqrt{n}}$ is our standard error of the mean.\n"
   ]
  },
  {
   "cell_type": "markdown",
   "metadata": {},
   "source": [
    "# 13. Pandas"
   ]
  },
  {
   "cell_type": "markdown",
   "metadata": {},
   "source": [
    "### A: Load the titanic csv into a `DataFrame` using `pd.read_csv()`"
   ]
  },
  {
   "cell_type": "code",
   "execution_count": 19,
   "metadata": {
    "collapsed": true
   },
   "outputs": [],
   "source": [
    "import pandas as pd"
   ]
  },
  {
   "cell_type": "code",
   "execution_count": 20,
   "metadata": {
    "collapsed": true
   },
   "outputs": [],
   "source": [
    "titanic = pd.read_csv('titanic.csv')"
   ]
  },
  {
   "cell_type": "markdown",
   "metadata": {},
   "source": [
    "### B: Display the first 5 rows, the last 4 rows, and a sample of 3 rows."
   ]
  },
  {
   "cell_type": "code",
   "execution_count": 21,
   "metadata": {
    "scrolled": true
   },
   "outputs": [
    {
     "data": {
      "text/html": [
       "<div>\n",
       "<table border=\"1\" class=\"dataframe\">\n",
       "  <thead>\n",
       "    <tr style=\"text-align: right;\">\n",
       "      <th></th>\n",
       "      <th>PassengerId</th>\n",
       "      <th>Survived</th>\n",
       "      <th>Pclass</th>\n",
       "      <th>Name</th>\n",
       "      <th>Sex</th>\n",
       "      <th>Age</th>\n",
       "      <th>SibSp</th>\n",
       "      <th>Parch</th>\n",
       "      <th>Ticket</th>\n",
       "      <th>Fare</th>\n",
       "      <th>Cabin</th>\n",
       "      <th>Embarked</th>\n",
       "    </tr>\n",
       "  </thead>\n",
       "  <tbody>\n",
       "    <tr>\n",
       "      <th>0</th>\n",
       "      <td>1</td>\n",
       "      <td>0</td>\n",
       "      <td>3</td>\n",
       "      <td>Braund, Mr. Owen Harris</td>\n",
       "      <td>male</td>\n",
       "      <td>22.0</td>\n",
       "      <td>1</td>\n",
       "      <td>0</td>\n",
       "      <td>A/5 21171</td>\n",
       "      <td>7.2500</td>\n",
       "      <td>NaN</td>\n",
       "      <td>S</td>\n",
       "    </tr>\n",
       "    <tr>\n",
       "      <th>1</th>\n",
       "      <td>2</td>\n",
       "      <td>1</td>\n",
       "      <td>1</td>\n",
       "      <td>Cumings, Mrs. John Bradley (Florence Briggs Th...</td>\n",
       "      <td>female</td>\n",
       "      <td>38.0</td>\n",
       "      <td>1</td>\n",
       "      <td>0</td>\n",
       "      <td>PC 17599</td>\n",
       "      <td>71.2833</td>\n",
       "      <td>C85</td>\n",
       "      <td>C</td>\n",
       "    </tr>\n",
       "    <tr>\n",
       "      <th>2</th>\n",
       "      <td>3</td>\n",
       "      <td>1</td>\n",
       "      <td>3</td>\n",
       "      <td>Heikkinen, Miss. Laina</td>\n",
       "      <td>female</td>\n",
       "      <td>26.0</td>\n",
       "      <td>0</td>\n",
       "      <td>0</td>\n",
       "      <td>STON/O2. 3101282</td>\n",
       "      <td>7.9250</td>\n",
       "      <td>NaN</td>\n",
       "      <td>S</td>\n",
       "    </tr>\n",
       "    <tr>\n",
       "      <th>3</th>\n",
       "      <td>4</td>\n",
       "      <td>1</td>\n",
       "      <td>1</td>\n",
       "      <td>Futrelle, Mrs. Jacques Heath (Lily May Peel)</td>\n",
       "      <td>female</td>\n",
       "      <td>35.0</td>\n",
       "      <td>1</td>\n",
       "      <td>0</td>\n",
       "      <td>113803</td>\n",
       "      <td>53.1000</td>\n",
       "      <td>C123</td>\n",
       "      <td>S</td>\n",
       "    </tr>\n",
       "    <tr>\n",
       "      <th>4</th>\n",
       "      <td>5</td>\n",
       "      <td>0</td>\n",
       "      <td>3</td>\n",
       "      <td>Allen, Mr. William Henry</td>\n",
       "      <td>male</td>\n",
       "      <td>35.0</td>\n",
       "      <td>0</td>\n",
       "      <td>0</td>\n",
       "      <td>373450</td>\n",
       "      <td>8.0500</td>\n",
       "      <td>NaN</td>\n",
       "      <td>S</td>\n",
       "    </tr>\n",
       "    <tr>\n",
       "      <th>5</th>\n",
       "      <td>6</td>\n",
       "      <td>0</td>\n",
       "      <td>3</td>\n",
       "      <td>Moran, Mr. James</td>\n",
       "      <td>male</td>\n",
       "      <td>NaN</td>\n",
       "      <td>0</td>\n",
       "      <td>0</td>\n",
       "      <td>330877</td>\n",
       "      <td>8.4583</td>\n",
       "      <td>NaN</td>\n",
       "      <td>Q</td>\n",
       "    </tr>\n",
       "  </tbody>\n",
       "</table>\n",
       "</div>"
      ],
      "text/plain": [
       "   PassengerId  Survived  Pclass  \\\n",
       "0            1         0       3   \n",
       "1            2         1       1   \n",
       "2            3         1       3   \n",
       "3            4         1       1   \n",
       "4            5         0       3   \n",
       "5            6         0       3   \n",
       "\n",
       "                                                Name     Sex   Age  SibSp  \\\n",
       "0                            Braund, Mr. Owen Harris    male  22.0      1   \n",
       "1  Cumings, Mrs. John Bradley (Florence Briggs Th...  female  38.0      1   \n",
       "2                             Heikkinen, Miss. Laina  female  26.0      0   \n",
       "3       Futrelle, Mrs. Jacques Heath (Lily May Peel)  female  35.0      1   \n",
       "4                           Allen, Mr. William Henry    male  35.0      0   \n",
       "5                                   Moran, Mr. James    male   NaN      0   \n",
       "\n",
       "   Parch            Ticket     Fare Cabin Embarked  \n",
       "0      0         A/5 21171   7.2500   NaN        S  \n",
       "1      0          PC 17599  71.2833   C85        C  \n",
       "2      0  STON/O2. 3101282   7.9250   NaN        S  \n",
       "3      0            113803  53.1000  C123        S  \n",
       "4      0            373450   8.0500   NaN        S  \n",
       "5      0            330877   8.4583   NaN        Q  "
      ]
     },
     "execution_count": 21,
     "metadata": {},
     "output_type": "execute_result"
    }
   ],
   "source": [
    "titanic.iloc[0:6]\n"
   ]
  },
  {
   "cell_type": "code",
   "execution_count": 22,
   "metadata": {},
   "outputs": [
    {
     "data": {
      "text/html": [
       "<div>\n",
       "<table border=\"1\" class=\"dataframe\">\n",
       "  <thead>\n",
       "    <tr style=\"text-align: right;\">\n",
       "      <th></th>\n",
       "      <th>PassengerId</th>\n",
       "      <th>Survived</th>\n",
       "      <th>Pclass</th>\n",
       "      <th>Name</th>\n",
       "      <th>Sex</th>\n",
       "      <th>Age</th>\n",
       "      <th>SibSp</th>\n",
       "      <th>Parch</th>\n",
       "      <th>Ticket</th>\n",
       "      <th>Fare</th>\n",
       "      <th>Cabin</th>\n",
       "      <th>Embarked</th>\n",
       "    </tr>\n",
       "  </thead>\n",
       "  <tbody>\n",
       "    <tr>\n",
       "      <th>887</th>\n",
       "      <td>888</td>\n",
       "      <td>1</td>\n",
       "      <td>1</td>\n",
       "      <td>Graham, Miss. Margaret Edith</td>\n",
       "      <td>female</td>\n",
       "      <td>19.0</td>\n",
       "      <td>0</td>\n",
       "      <td>0</td>\n",
       "      <td>112053</td>\n",
       "      <td>30.00</td>\n",
       "      <td>B42</td>\n",
       "      <td>S</td>\n",
       "    </tr>\n",
       "    <tr>\n",
       "      <th>888</th>\n",
       "      <td>889</td>\n",
       "      <td>0</td>\n",
       "      <td>3</td>\n",
       "      <td>Johnston, Miss. Catherine Helen \"Carrie\"</td>\n",
       "      <td>female</td>\n",
       "      <td>NaN</td>\n",
       "      <td>1</td>\n",
       "      <td>2</td>\n",
       "      <td>W./C. 6607</td>\n",
       "      <td>23.45</td>\n",
       "      <td>NaN</td>\n",
       "      <td>S</td>\n",
       "    </tr>\n",
       "    <tr>\n",
       "      <th>889</th>\n",
       "      <td>890</td>\n",
       "      <td>1</td>\n",
       "      <td>1</td>\n",
       "      <td>Behr, Mr. Karl Howell</td>\n",
       "      <td>male</td>\n",
       "      <td>26.0</td>\n",
       "      <td>0</td>\n",
       "      <td>0</td>\n",
       "      <td>111369</td>\n",
       "      <td>30.00</td>\n",
       "      <td>C148</td>\n",
       "      <td>C</td>\n",
       "    </tr>\n",
       "    <tr>\n",
       "      <th>890</th>\n",
       "      <td>891</td>\n",
       "      <td>0</td>\n",
       "      <td>3</td>\n",
       "      <td>Dooley, Mr. Patrick</td>\n",
       "      <td>male</td>\n",
       "      <td>32.0</td>\n",
       "      <td>0</td>\n",
       "      <td>0</td>\n",
       "      <td>370376</td>\n",
       "      <td>7.75</td>\n",
       "      <td>NaN</td>\n",
       "      <td>Q</td>\n",
       "    </tr>\n",
       "  </tbody>\n",
       "</table>\n",
       "</div>"
      ],
      "text/plain": [
       "     PassengerId  Survived  Pclass                                      Name  \\\n",
       "887          888         1       1              Graham, Miss. Margaret Edith   \n",
       "888          889         0       3  Johnston, Miss. Catherine Helen \"Carrie\"   \n",
       "889          890         1       1                     Behr, Mr. Karl Howell   \n",
       "890          891         0       3                       Dooley, Mr. Patrick   \n",
       "\n",
       "        Sex   Age  SibSp  Parch      Ticket   Fare Cabin Embarked  \n",
       "887  female  19.0      0      0      112053  30.00   B42        S  \n",
       "888  female   NaN      1      2  W./C. 6607  23.45   NaN        S  \n",
       "889    male  26.0      0      0      111369  30.00  C148        C  \n",
       "890    male  32.0      0      0      370376   7.75   NaN        Q  "
      ]
     },
     "execution_count": 22,
     "metadata": {},
     "output_type": "execute_result"
    }
   ],
   "source": [
    "titanic.iloc[-4:]"
   ]
  },
  {
   "cell_type": "code",
   "execution_count": 23,
   "metadata": {},
   "outputs": [
    {
     "data": {
      "text/html": [
       "<div>\n",
       "<table border=\"1\" class=\"dataframe\">\n",
       "  <thead>\n",
       "    <tr style=\"text-align: right;\">\n",
       "      <th></th>\n",
       "      <th>PassengerId</th>\n",
       "      <th>Survived</th>\n",
       "      <th>Pclass</th>\n",
       "      <th>Name</th>\n",
       "      <th>Sex</th>\n",
       "      <th>Age</th>\n",
       "      <th>SibSp</th>\n",
       "      <th>Parch</th>\n",
       "      <th>Ticket</th>\n",
       "      <th>Fare</th>\n",
       "      <th>Cabin</th>\n",
       "      <th>Embarked</th>\n",
       "    </tr>\n",
       "  </thead>\n",
       "  <tbody>\n",
       "    <tr>\n",
       "      <th>337</th>\n",
       "      <td>338</td>\n",
       "      <td>1</td>\n",
       "      <td>1</td>\n",
       "      <td>Burns, Miss. Elizabeth Margaret</td>\n",
       "      <td>female</td>\n",
       "      <td>41.0</td>\n",
       "      <td>0</td>\n",
       "      <td>0</td>\n",
       "      <td>16966</td>\n",
       "      <td>134.500</td>\n",
       "      <td>E40</td>\n",
       "      <td>C</td>\n",
       "    </tr>\n",
       "    <tr>\n",
       "      <th>203</th>\n",
       "      <td>204</td>\n",
       "      <td>0</td>\n",
       "      <td>3</td>\n",
       "      <td>Youseff, Mr. Gerious</td>\n",
       "      <td>male</td>\n",
       "      <td>45.5</td>\n",
       "      <td>0</td>\n",
       "      <td>0</td>\n",
       "      <td>2628</td>\n",
       "      <td>7.225</td>\n",
       "      <td>NaN</td>\n",
       "      <td>C</td>\n",
       "    </tr>\n",
       "    <tr>\n",
       "      <th>403</th>\n",
       "      <td>404</td>\n",
       "      <td>0</td>\n",
       "      <td>3</td>\n",
       "      <td>Hakkarainen, Mr. Pekka Pietari</td>\n",
       "      <td>male</td>\n",
       "      <td>28.0</td>\n",
       "      <td>1</td>\n",
       "      <td>0</td>\n",
       "      <td>STON/O2. 3101279</td>\n",
       "      <td>15.850</td>\n",
       "      <td>NaN</td>\n",
       "      <td>S</td>\n",
       "    </tr>\n",
       "  </tbody>\n",
       "</table>\n",
       "</div>"
      ],
      "text/plain": [
       "     PassengerId  Survived  Pclass                             Name     Sex  \\\n",
       "337          338         1       1  Burns, Miss. Elizabeth Margaret  female   \n",
       "203          204         0       3             Youseff, Mr. Gerious    male   \n",
       "403          404         0       3   Hakkarainen, Mr. Pekka Pietari    male   \n",
       "\n",
       "      Age  SibSp  Parch            Ticket     Fare Cabin Embarked  \n",
       "337  41.0      0      0             16966  134.500   E40        C  \n",
       "203  45.5      0      0              2628    7.225   NaN        C  \n",
       "403  28.0      1      0  STON/O2. 3101279   15.850   NaN        S  "
      ]
     },
     "execution_count": 23,
     "metadata": {},
     "output_type": "execute_result"
    }
   ],
   "source": [
    "titanic.sample(3)"
   ]
  },
  {
   "cell_type": "markdown",
   "metadata": {},
   "source": [
    "### C: Create a row mask that is `True` when `Pclass == 3`. Use this to mask your `DataFrame`. Find the mean of the `Survived` column. Is it the same as what we calculated in part 10?"
   ]
  },
  {
   "cell_type": "code",
   "execution_count": 24,
   "metadata": {},
   "outputs": [
    {
     "data": {
      "text/plain": [
       "0.24236252545824846"
      ]
     },
     "execution_count": 24,
     "metadata": {},
     "output_type": "execute_result"
    }
   ],
   "source": [
    "pclass3_mask = titanic[titanic['Pclass'] == 3]\n",
    "pclass3_mask\n",
    "pclass3_mask['Survived'].mean()"
   ]
  },
  {
   "cell_type": "markdown",
   "metadata": {},
   "source": [
    "This is the same mean as we calculated in part 10"
   ]
  },
  {
   "cell_type": "markdown",
   "metadata": {},
   "source": [
    "### D: Using a `.groupby()`, what is the mean of the survival column grouped by `Pclass` and `Sex`. What are your observations?"
   ]
  },
  {
   "cell_type": "code",
   "execution_count": 25,
   "metadata": {},
   "outputs": [
    {
     "data": {
      "text/html": [
       "<div>\n",
       "<table border=\"1\" class=\"dataframe\">\n",
       "  <thead>\n",
       "    <tr style=\"text-align: right;\">\n",
       "      <th></th>\n",
       "      <th></th>\n",
       "      <th>PassengerId</th>\n",
       "      <th>Survived</th>\n",
       "      <th>Age</th>\n",
       "      <th>SibSp</th>\n",
       "      <th>Parch</th>\n",
       "      <th>Fare</th>\n",
       "    </tr>\n",
       "    <tr>\n",
       "      <th>Pclass</th>\n",
       "      <th>Sex</th>\n",
       "      <th></th>\n",
       "      <th></th>\n",
       "      <th></th>\n",
       "      <th></th>\n",
       "      <th></th>\n",
       "      <th></th>\n",
       "    </tr>\n",
       "  </thead>\n",
       "  <tbody>\n",
       "    <tr>\n",
       "      <th rowspan=\"2\" valign=\"top\">1</th>\n",
       "      <th>female</th>\n",
       "      <td>469.212766</td>\n",
       "      <td>0.968085</td>\n",
       "      <td>34.611765</td>\n",
       "      <td>0.553191</td>\n",
       "      <td>0.457447</td>\n",
       "      <td>106.125798</td>\n",
       "    </tr>\n",
       "    <tr>\n",
       "      <th>male</th>\n",
       "      <td>455.729508</td>\n",
       "      <td>0.368852</td>\n",
       "      <td>41.281386</td>\n",
       "      <td>0.311475</td>\n",
       "      <td>0.278689</td>\n",
       "      <td>67.226127</td>\n",
       "    </tr>\n",
       "    <tr>\n",
       "      <th rowspan=\"2\" valign=\"top\">2</th>\n",
       "      <th>female</th>\n",
       "      <td>443.105263</td>\n",
       "      <td>0.921053</td>\n",
       "      <td>28.722973</td>\n",
       "      <td>0.486842</td>\n",
       "      <td>0.605263</td>\n",
       "      <td>21.970121</td>\n",
       "    </tr>\n",
       "    <tr>\n",
       "      <th>male</th>\n",
       "      <td>447.962963</td>\n",
       "      <td>0.157407</td>\n",
       "      <td>30.740707</td>\n",
       "      <td>0.342593</td>\n",
       "      <td>0.222222</td>\n",
       "      <td>19.741782</td>\n",
       "    </tr>\n",
       "    <tr>\n",
       "      <th rowspan=\"2\" valign=\"top\">3</th>\n",
       "      <th>female</th>\n",
       "      <td>399.729167</td>\n",
       "      <td>0.500000</td>\n",
       "      <td>21.750000</td>\n",
       "      <td>0.895833</td>\n",
       "      <td>0.798611</td>\n",
       "      <td>16.118810</td>\n",
       "    </tr>\n",
       "    <tr>\n",
       "      <th>male</th>\n",
       "      <td>455.515850</td>\n",
       "      <td>0.135447</td>\n",
       "      <td>26.507589</td>\n",
       "      <td>0.498559</td>\n",
       "      <td>0.224784</td>\n",
       "      <td>12.661633</td>\n",
       "    </tr>\n",
       "  </tbody>\n",
       "</table>\n",
       "</div>"
      ],
      "text/plain": [
       "               PassengerId  Survived        Age     SibSp     Parch  \\\n",
       "Pclass Sex                                                            \n",
       "1      female   469.212766  0.968085  34.611765  0.553191  0.457447   \n",
       "       male     455.729508  0.368852  41.281386  0.311475  0.278689   \n",
       "2      female   443.105263  0.921053  28.722973  0.486842  0.605263   \n",
       "       male     447.962963  0.157407  30.740707  0.342593  0.222222   \n",
       "3      female   399.729167  0.500000  21.750000  0.895833  0.798611   \n",
       "       male     455.515850  0.135447  26.507589  0.498559  0.224784   \n",
       "\n",
       "                     Fare  \n",
       "Pclass Sex                 \n",
       "1      female  106.125798  \n",
       "       male     67.226127  \n",
       "2      female   21.970121  \n",
       "       male     19.741782  \n",
       "3      female   16.118810  \n",
       "       male     12.661633  "
      ]
     },
     "execution_count": 25,
     "metadata": {},
     "output_type": "execute_result"
    }
   ],
   "source": [
    "titanic.groupby(['Pclass', 'Sex']).mean()"
   ]
  },
  {
   "cell_type": "markdown",
   "metadata": {},
   "source": [
    "Female in class 1 has a much higher chance of survival and male in class 3 has the lowest chance of survival"
   ]
  },
  {
   "cell_type": "markdown",
   "metadata": {},
   "source": [
    "### E: Survival Rate by Age Range:  `pd.cut()` takes two arguments: A `list`, `Series`, or `array`, and a list of bins. Create a new column in your `DataFrame` using `pd.cut()` that groups your ages into bins of 5 years. Then, use `.groupby()` to display the survival rate and count for each age group"
   ]
  },
  {
   "cell_type": "code",
   "execution_count": 26,
   "metadata": {
    "collapsed": true
   },
   "outputs": [],
   "source": [
    "age_bins =[0, 5, 10, 15, 20, 25, 30, 35, 40, 45, 50, 55, 60, 65, 70, 75, 80]"
   ]
  },
  {
   "cell_type": "code",
   "execution_count": null,
   "metadata": {},
   "outputs": [],
   "source": [
    "# Your code here\n",
    "pd.cut(titanic['Age'], age_bins)\n",
    "titanic['Age_bin'] = pd.cut(titanic['Age'], age_bins)\n",
    "titanic.head()\n",
    "display(titanic.groupby(['Age_bin'])['Survived'].mean())\n",
    "display(titanic.groupby(['Age_bin'])['Survived'].count())"
   ]
  },
  {
   "cell_type": "markdown",
   "metadata": {},
   "source": [
    "# 14. Hypothesis Testing\n",
    "\n",
    "### A) Hypothesis:\n",
    "\n",
    "Create a null and alternate hypothesis to ask the following quesiton: Was the `Age` of survivors different from that of people who didn't survive?"
   ]
  },
  {
   "cell_type": "markdown",
   "metadata": {},
   "source": [
    "**Hypotheses:**\n",
    "\n",
    "$H_0$: The age of survivors is the same as the age of people who did not survive\n",
    "\n",
    "$H_1$: The age of surivors is diffrent than the age of those who did not survive"
   ]
  },
  {
   "cell_type": "markdown",
   "metadata": {},
   "source": [
    "### B) T-Testing\n",
    "\n",
    "Use a t-test to test your null hypothesis. What's the p-value? What's your interpretation? Do you accept or reject your null hypothesis? What does this mean in terms of `Age`?"
   ]
  },
  {
   "cell_type": "code",
   "execution_count": 62,
   "metadata": {
    "collapsed": true
   },
   "outputs": [],
   "source": [
    "from scipy import stats"
   ]
  },
  {
   "cell_type": "code",
   "execution_count": 63,
   "metadata": {
    "scrolled": true
   },
   "outputs": [],
   "source": [
    "ttest = stats.ttest_ind"
   ]
  },
  {
   "cell_type": "code",
   "execution_count": 66,
   "metadata": {},
   "outputs": [],
   "source": [
    "t_survived = titanic[titanic['Survived'] == 1] ['Age'].dropna()\n",
    "t_not_survived = titanic[titanic['Survived'] == 0] ['Age'].dropna()           \n"
   ]
  },
  {
   "cell_type": "code",
   "execution_count": 67,
   "metadata": {},
   "outputs": [
    {
     "data": {
      "text/plain": [
       "Ttest_indResult(statistic=-2.0666869462538102, pvalue=0.039124654013482488)"
      ]
     },
     "execution_count": 67,
     "metadata": {},
     "output_type": "execute_result"
    }
   ],
   "source": [
    "ttest(t_survived, t_not_survived)"
   ]
  },
  {
   "cell_type": "markdown",
   "metadata": {},
   "source": [
    "# 13. Write-up\n",
    "\n",
    "Use markdown cells to answer the following questions:\n",
    "\n",
    "1. What is the main difference between a list and a tuple?\n",
    "    - A list is mutable and is enclosed by []\n",
    "    - A tuple is not mutable and is enclosed by ()\n",
    "2. Can you iterate over a dictionary? If so, how?\n",
    "    - Yes, you can iterate over a dictionary with a for loop and using the dictionary.items function\n",
    "3. What is the term for a list or array of `True` and `False` values used to select certain rows or columns in a `DataFrame`?\n",
    "    - Masking\n",
    "4. If you have a continuous variable, when would the median be a better descriptor than the mean? Why?\n",
    " -  It would be better to use mean because there's a continuous variable, it would be more difficult to find the mid-point of the data\n",
    "5. Give a qualitative description of the survivors of the titanic based on the effects of your splits in the data on survival rate. Or, given a row, what columns would you look at to guess if they survived?\n",
    "    - Given a row, you can look at column \"Sex\" and/or \"Class\" to guess if they survived\n"
   ]
  },
  {
   "cell_type": "markdown",
   "metadata": {},
   "source": [
    "# 14. Evaluation\n",
    "\n",
    "Please use markdown cells to submit your responses. \n",
    "\n",
    "1. What was easy for you in this project?\n",
    "    - manipulating data using pandas and dataframe\n",
    "2. What was difficult?\n",
    "    - statstics sections and building/separating the dictionaries\n",
    "3. Where did you make the most improvement?\n",
    "    - I got better at writing for loops and understanding how to break down codes into smaller chunks to get my final code\n",
    "4. Where would you like to improve?\n",
    "    - Calculating stats and knowing which functions/program to use when I need to reorganize dictionary and just in general how to use different types of functions, built-in packages"
   ]
  },
  {
   "cell_type": "code",
   "execution_count": null,
   "metadata": {
    "collapsed": true
   },
   "outputs": [],
   "source": []
  }
 ],
 "metadata": {
  "kernelspec": {
   "display_name": "Python 3",
   "language": "python",
   "name": "python3"
  },
  "language_info": {
   "codemirror_mode": {
    "name": "ipython",
    "version": 3
   },
   "file_extension": ".py",
   "mimetype": "text/x-python",
   "name": "python",
   "nbconvert_exporter": "python",
   "pygments_lexer": "ipython3",
   "version": "3.6.2"
  }
 },
 "nbformat": 4,
 "nbformat_minor": 2
}
